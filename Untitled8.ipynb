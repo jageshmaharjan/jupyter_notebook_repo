{
 "cells": [
  {
   "cell_type": "code",
   "execution_count": 2,
   "metadata": {
    "collapsed": true
   },
   "outputs": [],
   "source": [
    "import tensorflow as tf\n",
    "\n",
    "from keras.models import Sequential, Model\n",
    "from keras.layers import Dense, Input, InputLayer\n",
    "from keras.callbacks import TensorBoard\n",
    "\n",
    "import keras.backend as K"
   ]
  },
  {
   "cell_type": "code",
   "execution_count": 3,
   "metadata": {
    "collapsed": true
   },
   "outputs": [],
   "source": [
    "def dump(model, dir):\n",
    "    cb = TensorBoard(dir, write_graph=True)\n",
    "    cb.set_model(model)\n",
    "    cb.writer.flush()"
   ]
  },
  {
   "cell_type": "code",
   "execution_count": 4,
   "metadata": {
    "collapsed": true
   },
   "outputs": [],
   "source": [
    "model = Sequential()\n",
    "model.add(InputLayer(input_shape=(12,)))\n",
    "model.add(Dense(3))\n",
    "model.add(Dense(1))\n",
    "\n",
    "model.compile(\"sgd\", \"mse\")\n",
    "\n",
    "dump(model, \"./seq-simple\")\n"
   ]
  },
  {
   "cell_type": "code",
   "execution_count": 5,
   "metadata": {
    "collapsed": true
   },
   "outputs": [],
   "source": [
    "model = Sequential()\n",
    "model.add(InputLayer(input_shape=(12,)))\n",
    "model.add(Dense(3))\n",
    "model.add(Dense(1))\n",
    "\n",
    "model.compile(\"sgd\", \"mse\")\n",
    "\n",
    "dump(model, \"./seq-simple\")"
   ]
  },
  {
   "cell_type": "code",
   "execution_count": 6,
   "metadata": {
    "collapsed": true
   },
   "outputs": [],
   "source": [
    "K.clear_session()"
   ]
  },
  {
   "cell_type": "code",
   "execution_count": 7,
   "metadata": {
    "collapsed": true
   },
   "outputs": [],
   "source": [
    "model = Sequential()\n",
    "\n",
    "with tf.name_scope(\"input\"):\n",
    "    model.add(InputLayer(input_shape=(12,)))\n",
    "with tf.name_scope(\"inner\"):\n",
    "    model.add(Dense(3))\n",
    "with tf.name_scope(\"output\"):\n",
    "    model.add(Dense(1))\n",
    "with tf.name_scope(\"loss\"):\n",
    "    model.compile(\"sgd\", \"mse\")\n",
    "\n",
    "dump(model, \"./seq-named\")"
   ]
  },
  {
   "cell_type": "code",
   "execution_count": 8,
   "metadata": {
    "collapsed": true
   },
   "outputs": [],
   "source": [
    "K.clear_session()"
   ]
  },
  {
   "cell_type": "code",
   "execution_count": 9,
   "metadata": {},
   "outputs": [
    {
     "name": "stderr",
     "output_type": "stream",
     "text": [
      "/home/jugs/anaconda3/envs/tensorflow/lib/python3.6/site-packages/ipykernel_launcher.py:5: UserWarning: Update your `Model` call to the Keras 2 API: `Model(inputs=Tensor(\"in..., outputs=Tensor(\"de...)`\n",
      "  \"\"\"\n",
      "/home/jugs/anaconda3/envs/tensorflow/lib/python3.6/site-packages/ipykernel_launcher.py:20: UserWarning: Update your `Model` call to the Keras 2 API: `Model(inputs=Tensor(\"in..., outputs=Tensor(\"ou...)`\n"
     ]
    }
   ],
   "source": [
    "inputs = Input(shape=(12,))\n",
    "inner = Dense(3)(inputs)\n",
    "outputs = Dense(1)(inner)\n",
    "\n",
    "model = Model(input=inputs, output=outputs)\n",
    "model.compile(\"sgd\", \"mse\")\n",
    "dump(model, \"./func-simple\")\n",
    "\n",
    "K.clear_session()\n",
    "\n",
    "with tf.name_scope(\"input\"):\n",
    "    inputs = Input(shape=(12,))\n",
    "\n",
    "with tf.name_scope(\"inner\"):\n",
    "    inner = Dense(3)(inputs)\n",
    "\n",
    "with tf.name_scope(\"output\"):\n",
    "    outputs = Dense(1)(inner)\n",
    "\n",
    "model = Model(input=inputs, output=outputs)\n",
    "\n",
    "with tf.name_scope(\"loss\"):\n",
    "    model.compile(\"sgd\", \"mse\")\n",
    "\n",
    "dump(model, \"./func-named\")"
   ]
  },
  {
   "cell_type": "code",
   "execution_count": 2,
   "metadata": {},
   "outputs": [
    {
     "name": "stderr",
     "output_type": "stream",
     "text": [
      "/home/jugs/anaconda3/envs/tensorflow/lib/python3.6/site-packages/h5py/__init__.py:36: FutureWarning: Conversion of the second argument of issubdtype from `float` to `np.floating` is deprecated. In future, it will be treated as `np.float64 == np.dtype(float).type`.\n",
      "  from ._conv import register_converters as _register_converters\n",
      "Using TensorFlow backend.\n"
     ]
    }
   ],
   "source": [
    "from keras.applications import vgg16"
   ]
  }
 ],
 "metadata": {
  "kernelspec": {
   "display_name": "Python 3",
   "language": "python",
   "name": "python3"
  },
  "language_info": {
   "codemirror_mode": {
    "name": "ipython",
    "version": 3
   },
   "file_extension": ".py",
   "mimetype": "text/x-python",
   "name": "python",
   "nbconvert_exporter": "python",
   "pygments_lexer": "ipython3",
   "version": "3.6.3"
  }
 },
 "nbformat": 4,
 "nbformat_minor": 2
}
