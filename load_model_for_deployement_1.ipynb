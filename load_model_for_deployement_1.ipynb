{
 "cells": [
  {
   "cell_type": "code",
   "execution_count": 8,
   "metadata": {},
   "outputs": [],
   "source": [
    "from keras.layers import Dense, BatchNormalization, Activation, Dropout, InputLayer,Conv2D, MaxPool2D, Flatten\n",
    "from keras.models import Sequential\n",
    "from keras_diagram import ascii\n",
    "from keras.models import Model\n",
    "import keras.backend as K\n",
    "import numpy as np\n",
    "\n",
    "import random\n",
    "\n",
    "from tqdm import tqdm\n",
    "from tensorflow.contrib.data import TFRecordDataset\n",
    "import tensorflow as tf\n"
   ]
  },
  {
   "cell_type": "code",
   "execution_count": 1,
   "metadata": {
    "collapsed": true
   },
   "outputs": [],
   "source": [
    "def baseline_cnn(shape, num_speakers=10, dropout=0.5):\n",
    "    model = Sequential([\n",
    "        InputLayer(input_shape=shape),\n",
    "\n",
    "        Conv2D(filters=16, kernel_size=(3, 3), padding='same'),\n",
    "        BatchNormalization(),\n",
    "        Activation(activation='relu'),\n",
    "        MaxPool2D(pool_size=(2, 2)),\n",
    "        Dropout(0.5),\n",
    "\n",
    "        Conv2D(filters=32, kernel_size=(3, 3), padding='same'),\n",
    "        BatchNormalization(),\n",
    "        Activation(activation='relu'),\n",
    "        MaxPool2D(pool_size=(2, 2)),\n",
    "        Dropout(0.5),\n",
    "\n",
    "        Conv2D(filters=64, kernel_size=(3, 3), padding='same'),\n",
    "        BatchNormalization(),\n",
    "        Activation(activation='relu'),\n",
    "        MaxPool2D(pool_size=(2, 2)),\n",
    "        Dropout(0.5),\n",
    "        Flatten(),\n",
    "\n",
    "        Dense(512),\n",
    "        BatchNormalization(),\n",
    "        Activation(activation='relu'),\n",
    "        Dropout(0.5),\n",
    "\n",
    "        Dense(num_speakers, activation='softmax')\n",
    "    ])\n",
    "    print(ascii(model))\n",
    "    return model"
   ]
  },
  {
   "cell_type": "code",
   "execution_count": 3,
   "metadata": {},
   "outputs": [
    {
     "name": "stdout",
     "output_type": "stream",
     "text": [
      "         InputLayer (None, 64, 64, 1)  \n",
      "             Conv2D (None, 64, 64, 16) \n",
      " BatchNormalization (None, 64, 64, 16) \n",
      "               Relu (None, 64, 64, 16) \n",
      "       MaxPooling2D (None, 32, 32, 16) \n",
      "            Dropout (None, 32, 32, 16) \n",
      "             Conv2D (None, 32, 32, 32) \n",
      " BatchNormalization (None, 32, 32, 32) \n",
      "               Relu (None, 32, 32, 32) \n",
      "       MaxPooling2D (None, 16, 16, 32) \n",
      "            Dropout (None, 16, 16, 32) \n",
      "             Conv2D (None, 16, 16, 64) \n",
      " BatchNormalization (None, 16, 16, 64) \n",
      "               Relu (None, 16, 16, 64) \n",
      "       MaxPooling2D (None, 8, 8, 64)   \n",
      "            Dropout (None, 8, 8, 64)   \n",
      "            Flatten (None, 4096)       \n",
      "              Dense (None, 512)        \n",
      " BatchNormalization (None, 512)        \n",
      "               Relu (None, 512)        \n",
      "            Dropout (None, 512)        \n",
      "              Dense (None, 46)         \n",
      "\n"
     ]
    }
   ],
   "source": [
    "model = baseline_cnn((64, 64, 1), 46)"
   ]
  },
  {
   "cell_type": "code",
   "execution_count": 6,
   "metadata": {},
   "outputs": [],
   "source": [
    "model.load_weights(\"/home/jugs/Desktop/model.h5\")"
   ]
  },
  {
   "cell_type": "code",
   "execution_count": 7,
   "metadata": {
    "collapsed": true
   },
   "outputs": [],
   "source": [
    "config = model.get_config()\n",
    "weight = model.get_weights()"
   ]
  },
  {
   "cell_type": "code",
   "execution_count": 14,
   "metadata": {},
   "outputs": [
    {
     "ename": "TypeError",
     "evalue": "list indices must be integers or slices, not str",
     "output_type": "error",
     "traceback": [
      "\u001b[0;31m---------------------------------------------------------------------------\u001b[0m",
      "\u001b[0;31mTypeError\u001b[0m                                 Traceback (most recent call last)",
      "\u001b[0;32m<ipython-input-14-b61a6e5f75dd>\u001b[0m in \u001b[0;36m<module>\u001b[0;34m()\u001b[0m\n\u001b[0;32m----> 1\u001b[0;31m \u001b[0mnew_model\u001b[0m \u001b[0;34m=\u001b[0m \u001b[0mModel\u001b[0m\u001b[0;34m.\u001b[0m\u001b[0mfrom_config\u001b[0m\u001b[0;34m(\u001b[0m\u001b[0mconfig\u001b[0m\u001b[0;34m)\u001b[0m\u001b[0;34m\u001b[0m\u001b[0m\n\u001b[0m\u001b[1;32m      2\u001b[0m \u001b[0mnew_model\u001b[0m\u001b[0;34m.\u001b[0m\u001b[0mset_weights\u001b[0m\u001b[0;34m(\u001b[0m\u001b[0mweights\u001b[0m\u001b[0;34m)\u001b[0m\u001b[0;34m\u001b[0m\u001b[0m\n",
      "\u001b[0;32m~/anaconda3/envs/tensorflow/lib/python3.6/site-packages/keras/engine/topology.py\u001b[0m in \u001b[0;36mfrom_config\u001b[0;34m(cls, config, custom_objects)\u001b[0m\n\u001b[1;32m   2484\u001b[0m \u001b[0;34m\u001b[0m\u001b[0m\n\u001b[1;32m   2485\u001b[0m         \u001b[0;31m# First, we create all layers and enqueue nodes to be processed\u001b[0m\u001b[0;34m\u001b[0m\u001b[0;34m\u001b[0m\u001b[0m\n\u001b[0;32m-> 2486\u001b[0;31m         \u001b[0;32mfor\u001b[0m \u001b[0mlayer_data\u001b[0m \u001b[0;32min\u001b[0m \u001b[0mconfig\u001b[0m\u001b[0;34m[\u001b[0m\u001b[0;34m'layers'\u001b[0m\u001b[0;34m]\u001b[0m\u001b[0;34m:\u001b[0m\u001b[0;34m\u001b[0m\u001b[0m\n\u001b[0m\u001b[1;32m   2487\u001b[0m             \u001b[0mprocess_layer\u001b[0m\u001b[0;34m(\u001b[0m\u001b[0mlayer_data\u001b[0m\u001b[0;34m)\u001b[0m\u001b[0;34m\u001b[0m\u001b[0m\n\u001b[1;32m   2488\u001b[0m         \u001b[0;31m# Then we process nodes in order of layer depth.\u001b[0m\u001b[0;34m\u001b[0m\u001b[0;34m\u001b[0m\u001b[0m\n",
      "\u001b[0;31mTypeError\u001b[0m: list indices must be integers or slices, not str"
     ]
    }
   ],
   "source": [
    "new_model = Model.from_config(config)\n",
    "new_model.set_weights(weights)"
   ]
  },
  {
   "cell_type": "code",
   "execution_count": 11,
   "metadata": {
    "collapsed": true
   },
   "outputs": [],
   "source": [
    "from tensorflow.python.saved_model import builder as saved_model_builder\n",
    "from tensorflow.python.saved_model import utils\n",
    "from tensorflow.python.saved_model import tag_constants, signature_constants\n",
    "from tensorflow.python.saved_model.signature_def_utils_impl import     build_signature_def, predict_signature_def\n",
    "from tensorflow.contrib.session_bundle import exporter\n"
   ]
  },
  {
   "cell_type": "code",
   "execution_count": 13,
   "metadata": {},
   "outputs": [
    {
     "ename": "NameError",
     "evalue": "name 'new_model' is not defined",
     "output_type": "error",
     "traceback": [
      "\u001b[0;31m---------------------------------------------------------------------------\u001b[0m",
      "\u001b[0;31mNameError\u001b[0m                                 Traceback (most recent call last)",
      "\u001b[0;32m<ipython-input-13-65f0161ed5b4>\u001b[0m in \u001b[0;36m<module>\u001b[0;34m()\u001b[0m\n\u001b[1;32m      1\u001b[0m \u001b[0mexport_path\u001b[0m \u001b[0;34m=\u001b[0m \u001b[0;34m\"/home/jugs/Desktop/logs/tf_servings_export\"\u001b[0m\u001b[0;34m\u001b[0m\u001b[0m\n\u001b[1;32m      2\u001b[0m \u001b[0mbuilder\u001b[0m \u001b[0;34m=\u001b[0m \u001b[0msaved_model_builder\u001b[0m\u001b[0;34m.\u001b[0m\u001b[0mSavedModelBuilder\u001b[0m\u001b[0;34m(\u001b[0m\u001b[0mexport_path\u001b[0m\u001b[0;34m)\u001b[0m\u001b[0;34m\u001b[0m\u001b[0m\n\u001b[0;32m----> 3\u001b[0;31m signature = predict_signature_def(inputs={'images': new_model.input},\n\u001b[0m\u001b[1;32m      4\u001b[0m                                   outputs={'scores': new_model.output})\n\u001b[1;32m      5\u001b[0m \u001b[0;34m\u001b[0m\u001b[0m\n",
      "\u001b[0;31mNameError\u001b[0m: name 'new_model' is not defined"
     ]
    }
   ],
   "source": [
    "export_path = \"/home/jugs/Desktop/logs/tf_servings_export\"\n",
    "builder = saved_model_builder.SavedModelBuilder(export_path)\n",
    "signature = predict_signature_def(inputs={'images': new_model.input},\n",
    "                                  outputs={'scores': new_model.output})\n",
    "\n",
    "with K.get_session() as sess:\n",
    "    builder.add_meta_graph_and_variables(sess=sess,\n",
    "                                         tags=[tag_constants.SERVING],\n",
    "                                         signature_def_map={'predict': signature})\n",
    "    builder.save()"
   ]
  },
  {
   "cell_type": "code",
   "execution_count": null,
   "metadata": {
    "collapsed": true
   },
   "outputs": [],
   "source": []
  }
 ],
 "metadata": {
  "kernelspec": {
   "display_name": "Python 3",
   "language": "python",
   "name": "python3"
  },
  "language_info": {
   "codemirror_mode": {
    "name": "ipython",
    "version": 3
   },
   "file_extension": ".py",
   "mimetype": "text/x-python",
   "name": "python",
   "nbconvert_exporter": "python",
   "pygments_lexer": "ipython3",
   "version": "3.6.3"
  }
 },
 "nbformat": 4,
 "nbformat_minor": 2
}
