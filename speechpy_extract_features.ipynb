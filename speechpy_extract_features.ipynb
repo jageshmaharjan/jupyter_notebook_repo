{
 "cells": [
  {
   "cell_type": "code",
   "execution_count": 19,
   "metadata": {
    "collapsed": true
   },
   "outputs": [],
   "source": [
    "import scipy.io.wavfile as wav\n",
    "import numpy as np\n",
    "import speechpy as sp\n",
    "import os"
   ]
  },
  {
   "cell_type": "code",
   "execution_count": 15,
   "metadata": {
    "collapsed": true
   },
   "outputs": [],
   "source": [
    "path = \"/home/jugs/Audio/default_voice/\"\n",
    "result = [os.path.join(dp, f) for dp, dn, filenames in os.walk(path) for f in filenames if os.path.splitext(f)[1] == '.wav']\n"
   ]
  },
  {
   "cell_type": "code",
   "execution_count": 16,
   "metadata": {},
   "outputs": [
    {
     "name": "stdout",
     "output_type": "stream",
     "text": [
      "/home/jugs/Audio/default_voice/taoxian/default_voice_3.wav\n",
      "/home/jugs/Audio/default_voice/taoxian/default_voice_2.wav\n",
      "/home/jugs/Audio/default_voice/taoxian/default_voice_1.wav\n",
      "/home/jugs/Audio/default_voice/jugs/default_voice_3.wav\n",
      "/home/jugs/Audio/default_voice/jugs/default_voice_2.wav\n",
      "/home/jugs/Audio/default_voice/jugs/default_voice_1.wav\n",
      "/home/jugs/Audio/default_voice/xiaoli/default_voice_3.wav\n",
      "/home/jugs/Audio/default_voice/xiaoli/default_voice_2.wav\n",
      "/home/jugs/Audio/default_voice/xiaoli/default_voice_1.wav\n"
     ]
    }
   ],
   "source": [
    "for file in result:\n",
    "    print (file)\n",
    "    fs, signal = wav.read(file)"
   ]
  },
  {
   "cell_type": "code",
   "execution_count": 20,
   "metadata": {},
   "outputs": [
    {
     "name": "stdout",
     "output_type": "stream",
     "text": [
      "power spectrum shape= (517, 257)\n"
     ]
    }
   ],
   "source": [
    "    signal_preemphasized = sp.processing.preemphasis(signal, cof=0.98)\n",
    "    frames = sp.processing.stack_frames(signal, sampling_frequency=fs, frame_length=0.020, frame_stride=0.01,\n",
    "                                              filter=lambda x: np.ones((x,)),\n",
    "                                              zero_padding=True)\n",
    "\n",
    "    power_spectrum = sp.processing.power_spectrum(frames)\n",
    "    print('power spectrum shape=', power_spectrum.shape)"
   ]
  },
  {
   "cell_type": "code",
   "execution_count": 22,
   "metadata": {
    "collapsed": true
   },
   "outputs": [],
   "source": [
    "    mfcc = sp.feature.mfcc(signal, sampling_frequency=fs, frame_length=0.020, frame_stride=0.01,\n",
    "                                 num_filters=40, fft_length=512, low_frequency=0, high_frequency=None)\n",
    "\n",
    "    mfcc_cmvn = sp.processing.cmvnw(mfcc, win_size=301, variance_normalization=True)\n",
    "    "
   ]
  },
  {
   "cell_type": "code",
   "execution_count": 24,
   "metadata": {},
   "outputs": [
    {
     "name": "stdout",
     "output_type": "stream",
     "text": [
      "mfcc(mean + variance normalized) feature shape= (517, 13)\n"
     ]
    }
   ],
   "source": [
    "    print('mfcc(mean + variance normalized) feature shape=', mfcc_cmvn.shape)"
   ]
  },
  {
   "cell_type": "code",
   "execution_count": 26,
   "metadata": {},
   "outputs": [
    {
     "name": "stdout",
     "output_type": "stream",
     "text": [
      "[-0.89951193  0.19383955 -0.45482975 ..., -0.96346813 -0.18979594\n",
      "  0.82478744]\n"
     ]
    }
   ],
   "source": [
    "    reshape_mfcc = np.array(mfcc_cmvn).reshape(mfcc_cmvn.shape[0]*mfcc_cmvn.shape[1])\n",
    "    print(reshape_mfcc)"
   ]
  },
  {
   "cell_type": "code",
   "execution_count": 27,
   "metadata": {},
   "outputs": [
    {
     "ename": "TypeError",
     "evalue": "append() missing 1 required positional argument: 'values'",
     "output_type": "error",
     "traceback": [
      "\u001b[0;31m---------------------------------------------------------------------------\u001b[0m",
      "\u001b[0;31mTypeError\u001b[0m                                 Traceback (most recent call last)",
      "\u001b[0;32m<ipython-input-27-2d4a2773ddb1>\u001b[0m in \u001b[0;36m<module>\u001b[0;34m()\u001b[0m\n\u001b[0;32m----> 1\u001b[0;31m \u001b[0mmatr\u001b[0m \u001b[0;34m=\u001b[0m \u001b[0mnp\u001b[0m\u001b[0;34m.\u001b[0m\u001b[0mappend\u001b[0m\u001b[0;34m(\u001b[0m\u001b[0mreshape_mfcc\u001b[0m\u001b[0;34m,\u001b[0m \u001b[0maxis\u001b[0m\u001b[0;34m=\u001b[0m\u001b[0;36m0\u001b[0m\u001b[0;34m)\u001b[0m\u001b[0;34m\u001b[0m\u001b[0m\n\u001b[0m",
      "\u001b[0;31mTypeError\u001b[0m: append() missing 1 required positional argument: 'values'"
     ]
    }
   ],
   "source": [
    "    matr = np.append(reshape_mfcc, axis=0)"
   ]
  },
  {
   "cell_type": "code",
   "execution_count": null,
   "metadata": {
    "collapsed": true
   },
   "outputs": [],
   "source": []
  }
 ],
 "metadata": {
  "kernelspec": {
   "display_name": "Python 3",
   "language": "python",
   "name": "python3"
  },
  "language_info": {
   "codemirror_mode": {
    "name": "ipython",
    "version": 3
   },
   "file_extension": ".py",
   "mimetype": "text/x-python",
   "name": "python",
   "nbconvert_exporter": "python",
   "pygments_lexer": "ipython3",
   "version": "3.6.8"
  }
 },
 "nbformat": 4,
 "nbformat_minor": 2
}
