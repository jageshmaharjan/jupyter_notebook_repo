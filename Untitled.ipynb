{
 "cells": [
  {
   "cell_type": "code",
   "execution_count": 6,
   "metadata": {
    "collapsed": true
   },
   "outputs": [],
   "source": [
    "import numpy as np\n",
    "import wave\n",
    "import sys\n",
    "import pyaudio\n",
    "import matplotlib.pyplot as plt"
   ]
  },
  {
   "cell_type": "code",
   "execution_count": null,
   "metadata": {},
   "outputs": [],
   "source": [
    "class AudioFile:\n",
    "    CHUNK = 1024\n",
    "\n",
    "    def __init__(self, file):\n",
    "        self.f = wave.open(file)\n",
    "        self.p = pyaudio.PyAudio()\n",
    "        self.stream = self.p.open(format = self.p.get_format_from_width(self.f.getsampwidth()),\n",
    "                        channels = self.f.getnchannels(),\n",
    "                        rate = self.f.getframerate(),\n",
    "                        output = True)\n",
    "\n",
    "    def play(self):\n",
    "        data = self.f.readframes(1024)\n",
    "\n",
    "        while data != \"\":\n",
    "            self.stream.write(data)\n",
    "            data = self.f.readframes(1024)\n",
    "\n",
    "    def close(self):\n",
    "        self.stream.stop_stream()\n",
    "        self.stream.close()\n",
    "        self.p.terminate()\n",
    "\n",
    "    def plotAudio(self):\n",
    "        signal = self.f.readframes(-1)\n",
    "        signal = np.fromstring(signal, 'Int16')\n",
    "        fs = self.f.getframerate()\n",
    "\n",
    "        if self.f.getnchannels() == 2:\n",
    "            print('just mono files')\n",
    "            sys.exit(0)\n",
    "\n",
    "        Time = np.linspace(0, len(signal)/fs, num=len(signal))\n",
    "\n",
    "        plt.figure(1)\n",
    "        plt.title('Signal wave')\n",
    "        plt.plot(Time, signal)\n",
    "        plt.show()\n",
    "\n",
    "a = AudioFile('/home/jugs/Downloads/LDC93S1.wav')\n",
    "a.plotAudio()\n",
    "a.play()\n",
    "a.close()        "
   ]
  },
  {
   "cell_type": "code",
   "execution_count": null,
   "metadata": {
    "collapsed": true
   },
   "outputs": [],
   "source": []
  }
 ],
 "metadata": {
  "kernelspec": {
   "display_name": "Python 3",
   "language": "python",
   "name": "python3"
  },
  "language_info": {
   "codemirror_mode": {
    "name": "ipython",
    "version": 3
   },
   "file_extension": ".py",
   "mimetype": "text/x-python",
   "name": "python",
   "nbconvert_exporter": "python",
   "pygments_lexer": "ipython3",
   "version": "3.6.2"
  }
 },
 "nbformat": 4,
 "nbformat_minor": 2
}
