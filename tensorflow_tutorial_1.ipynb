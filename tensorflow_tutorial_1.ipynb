{
 "cells": [
  {
   "cell_type": "code",
   "execution_count": 1,
   "metadata": {
    "collapsed": true
   },
   "outputs": [],
   "source": [
    "import tensorflow as tf\n",
    "import numpy as np"
   ]
  },
  {
   "cell_type": "code",
   "execution_count": 4,
   "metadata": {},
   "outputs": [],
   "source": [
    "x_data = np.random.rand(100).astype(np.float32)\n",
    "y_data = x_data * 0.1 + 0.3"
   ]
  },
  {
   "cell_type": "code",
   "execution_count": 5,
   "metadata": {
    "collapsed": true
   },
   "outputs": [],
   "source": [
    "Weights = tf.Variable(tf.random_uniform([1],-1.0,1.0))\n",
    "biases = tf.Variable(tf.zeros([1]))\n"
   ]
  },
  {
   "cell_type": "code",
   "execution_count": 15,
   "metadata": {},
   "outputs": [
    {
     "name": "stdout",
     "output_type": "stream",
     "text": [
      "0 [ 0.84639698] [-0.01352745]\n",
      "40 [ 0.48516273] [ 0.10015797]\n",
      "80 [ 0.30712029] [ 0.19253504]\n",
      "120 [ 0.21137854] [ 0.24221094]\n",
      "160 [ 0.15989359] [ 0.26892406]\n",
      "200 [ 0.13220762] [ 0.28328899]\n",
      "240 [ 0.11731958] [ 0.29101372]\n",
      "280 [ 0.10931356] [ 0.29516762]\n",
      "320 [ 0.10500836] [ 0.29740143]\n",
      "360 [ 0.10269323] [ 0.29860264]\n",
      "400 [ 0.10144829] [ 0.29924855]\n",
      "440 [ 0.10077882] [ 0.29959592]\n",
      "480 [ 0.10041881] [ 0.29978272]\n",
      "520 [ 0.10022523] [ 0.29988313]\n",
      "560 [ 0.1001211] [ 0.29993719]\n",
      "600 [ 0.10006513] [ 0.29996622]\n",
      "640 [ 0.10003506] [ 0.29998183]\n",
      "680 [ 0.10001888] [ 0.29999018]\n",
      "720 [ 0.10001021] [ 0.29999471]\n",
      "760 [ 0.10000551] [ 0.29999715]\n",
      "800 [ 0.10000306] [ 0.29999843]\n",
      "840 [ 0.10000163] [ 0.29999915]\n",
      "880 [ 0.10000093] [ 0.29999951]\n",
      "920 [ 0.10000062] [ 0.29999965]\n",
      "960 [ 0.10000054] [ 0.29999968]\n",
      "1000 [ 0.10000054] [ 0.29999968]\n",
      "1040 [ 0.10000054] [ 0.29999968]\n",
      "1080 [ 0.10000054] [ 0.29999968]\n",
      "1120 [ 0.10000054] [ 0.29999968]\n",
      "1160 [ 0.10000054] [ 0.29999968]\n",
      "1200 [ 0.10000054] [ 0.29999968]\n",
      "1240 [ 0.10000054] [ 0.29999968]\n",
      "1280 [ 0.10000054] [ 0.29999968]\n",
      "1320 [ 0.10000054] [ 0.29999968]\n",
      "1360 [ 0.10000054] [ 0.29999968]\n",
      "1400 [ 0.10000054] [ 0.29999968]\n",
      "1440 [ 0.10000054] [ 0.29999968]\n",
      "1480 [ 0.10000054] [ 0.29999968]\n",
      "1520 [ 0.10000054] [ 0.29999968]\n",
      "1560 [ 0.10000054] [ 0.29999968]\n",
      "1600 [ 0.10000054] [ 0.29999968]\n",
      "1640 [ 0.10000054] [ 0.29999968]\n",
      "1680 [ 0.10000054] [ 0.29999968]\n",
      "1720 [ 0.10000054] [ 0.29999968]\n",
      "1760 [ 0.10000054] [ 0.29999968]\n",
      "1800 [ 0.10000054] [ 0.29999968]\n",
      "1840 [ 0.10000054] [ 0.29999968]\n",
      "1880 [ 0.10000054] [ 0.29999968]\n",
      "1920 [ 0.10000054] [ 0.29999968]\n",
      "1960 [ 0.10000054] [ 0.29999968]\n"
     ]
    }
   ],
   "source": [
    "y = Weights * x_data + biases\n",
    "\n",
    "loss = tf.reduce_mean(tf.square(y - y_data))\n",
    "optimizer = tf.train.GradientDescentOptimizer(0.1)\n",
    "train = optimizer.minimize(loss)\n",
    "\n",
    "init = tf.global_variables_initializer()\n",
    "\n",
    "sess = tf.Session()\n",
    "sess.run(init)\n",
    "\n",
    "for step in range(2000):\n",
    "    sess.run(train)\n",
    "    if step % 40 == 0:\n",
    "        print(step, sess.run(Weights), sess.run(biases))"
   ]
  },
  {
   "cell_type": "code",
   "execution_count": null,
   "metadata": {
    "collapsed": true
   },
   "outputs": [],
   "source": []
  }
 ],
 "metadata": {
  "kernelspec": {
   "display_name": "Python 3",
   "language": "python",
   "name": "python3"
  },
  "language_info": {
   "codemirror_mode": {
    "name": "ipython",
    "version": 3
   },
   "file_extension": ".py",
   "mimetype": "text/x-python",
   "name": "python",
   "nbconvert_exporter": "python",
   "pygments_lexer": "ipython3",
   "version": "3.6.2"
  }
 },
 "nbformat": 4,
 "nbformat_minor": 2
}
