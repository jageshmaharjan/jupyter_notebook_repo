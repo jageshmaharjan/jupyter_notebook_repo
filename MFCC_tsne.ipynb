{
 "cells": [
  {
   "cell_type": "code",
   "execution_count": 1,
   "metadata": {
    "collapsed": true
   },
   "outputs": [],
   "source": [
    "from sklearn.manifold import TSNE\n",
    "import scipy.io.wavfile as wav\n",
    "import numpy as np\n",
    "import speechpy as sp\n",
    "import os\n",
    "import matplotlib.pyplot as plt"
   ]
  },
  {
   "cell_type": "code",
   "execution_count": 16,
   "metadata": {
    "collapsed": true
   },
   "outputs": [],
   "source": [
    "path = \"/home/jugs/Downloads/PresidentAudio/\"\n",
    "result = [os.path.join(dp, f) for dp, dn, filenames in os.walk(path) for f in filenames if os.path.splitext(f)[1] == '.wav']\n",
    "# audio = np.random.randint((6,512,13))   # Create MNIST Like stack of image\n",
    "stacked = np.empty((len(result),512*13))  # Create MNIST Like stack of image\n",
    "labels = []"
   ]
  },
  {
   "cell_type": "code",
   "execution_count": 17,
   "metadata": {
    "collapsed": true
   },
   "outputs": [],
   "source": [
    "for idx, file in enumerate(result):\n",
    "    labels.append(file.split('/')[5])\n",
    "    fs, signal = wav.read(file)\n",
    "    signal_preemphasized = sp.processing.preemphasis(signal, cof=0.98)\n",
    "    frames = sp.processing.stack_frames(signal, sampling_frequency=fs, frame_length=0.020, frame_stride=0.01,\n",
    "                                              filter=lambda x: np.ones((x,)),\n",
    "                                              zero_padding=True)\n",
    "\n",
    "    power_spectrum = sp.processing.power_spectrum(frames)\n",
    "    # print('power spectrum shape=', power_spectrum.shape)\n",
    "\n",
    "    mfcc = sp.feature.mfcc(signal, sampling_frequency=fs, frame_length=0.020, frame_stride=0.01,\n",
    "                                 num_filters=40, fft_length=512, low_frequency=0, high_frequency=None)\n",
    "\n",
    "    mfcc_cmvn = sp.processing.cmvnw(mfcc, win_size=301, variance_normalization=True)\n",
    "    # print('mfcc(mean + variance normalized) feature shape=', mfcc_cmvn.shape)\n",
    "\n",
    "    reshape_mfcc = np.array(mfcc).reshape(mfcc.shape[0]*mfcc.shape[1])\n",
    "    # print(reshape_mfcc)\n",
    "    stacked[idx] = np.resize(reshape_mfcc,(512*13))\n"
   ]
  },
  {
   "cell_type": "code",
   "execution_count": 18,
   "metadata": {
    "collapsed": true
   },
   "outputs": [],
   "source": [
    "def plot_embedding(X, title=\"tsne dim reduction\"):\n",
    "    x_min, x_max = np.min(X, 0), np.max(X, 0)\n",
    "    X = (X - x_min) / (x_max - x_min)\n",
    "    # plt.figure()\n",
    "    ax = plt.subplot(111)\n",
    "\n",
    "    ax = plt.subplot(111)\n",
    "    for i in range(X.shape[0]):\n",
    "        plt.text(X[i, 0], X[i, 1], labels[i],\n",
    "                 color= 'red',\n",
    "                 fontdict={'weight': 'bold', 'size': 6})\n",
    "    if title is not None:\n",
    "        plt.title(title)"
   ]
  },
  {
   "cell_type": "code",
   "execution_count": 19,
   "metadata": {},
   "outputs": [
    {
     "name": "stdout",
     "output_type": "stream",
     "text": [
      "[t-SNE] Computing 91 nearest neighbors...\n",
      "[t-SNE] Indexed 210 samples in 0.020s...\n",
      "[t-SNE] Computed neighbors for 210 samples in 0.429s...\n",
      "[t-SNE] Computed conditional probabilities for sample 210 / 210\n",
      "[t-SNE] Mean sigma: 57.620566\n",
      "[t-SNE] KL divergence after 250 iterations with early exaggeration: 87.395508\n",
      "[t-SNE] Error after 1000 iterations: 0.712549\n",
      "plot img\n"
     ]
    },
    {
     "name": "stderr",
     "output_type": "stream",
     "text": [
      "/home/jugs/anaconda3/envs/tensorflow/lib/python3.6/site-packages/matplotlib/cbook/deprecation.py:106: MatplotlibDeprecationWarning: Adding an axes using the same arguments as a previous axes currently reuses the earlier instance.  In a future version, a new instance will always be created and returned.  Meanwhile, this warning can be suppressed, and the future behavior ensured, by passing a unique label to each axes instance.\n",
      "  warnings.warn(message, mplDeprecation, stacklevel=1)\n"
     ]
    },
    {
     "data": {
      "image/png": "[encoded data removed]",
      "text/plain": [
       "<matplotlib.figure.Figure at 0x7f5e5272b0f0>"
      ]
     },
     "metadata": {},
     "output_type": "display_data"
    }
   ],
   "source": [
    "embedder = TSNE(n_components=2, verbose=1, init='pca', random_state=0)\n",
    "x_tsne = embedder.fit_transform(stacked)\n",
    "print(\"plot img\")\n",
    "plot_embedding(x_tsne)\n",
    "plt.savefig(\"speechpy.png\",bbox_inches='tight')\n",
    "plt.show()\n"
   ]
  },
  {
   "cell_type": "code",
   "execution_count": null,
   "metadata": {
    "collapsed": true
   },
   "outputs": [],
   "source": []
  }
 ],
 "metadata": {
  "kernelspec": {
   "display_name": "Python 3",
   "language": "python",
   "name": "python3"
  },
  "language_info": {
   "codemirror_mode": {
    "name": "ipython",
    "version": 3
   },
   "file_extension": ".py",
   "mimetype": "text/x-python",
   "name": "python",
   "nbconvert_exporter": "python",
   "pygments_lexer": "ipython3",
   "version": "3.6.3"
  }
 },
 "nbformat": 4,
 "nbformat_minor": 2
}
