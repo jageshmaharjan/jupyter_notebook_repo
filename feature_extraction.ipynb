{
 "cells": [
  {
   "cell_type": "code",
   "execution_count": 1,
   "metadata": {},
   "outputs": [],
   "source": [
    "#import tensorflow as tf\n",
    "\n",
    "from python_speech_features import mfcc\n",
    "from python_speech_features import delta\n",
    "from python_speech_features import logfbank\n",
    "import scipy.io.wavfile as wav\n"
   ]
  },
  {
   "cell_type": "code",
   "execution_count": 2,
   "metadata": {},
   "outputs": [
    {
     "name": "stdout",
     "output_type": "stream",
     "text": [
      "[[-0.78878886 -1.14433698 -0.35080499 -1.02643325 -0.60154195  1.09552809\n",
      "   1.30047228  0.84886134  1.29734381  2.05468834  1.42280635  1.53848843\n",
      "   2.5349174   2.64998269  2.65406923  3.00612893  3.01890453  3.53224107\n",
      "   3.5464632   3.56656019  4.30705119  4.78187093  4.83346869  4.84591208\n",
      "   5.07468282  5.65286544]\n",
      " [-1.30784731 -1.62661035 -1.13875699 -0.80749227 -1.21985661 -0.73703385\n",
      "  -0.30910769  0.35530489  1.56003874  2.4226987   1.75392757  1.10078408\n",
      "   2.46200585  2.54995892  2.7550646   3.02245451  3.173413    3.32486194\n",
      "   3.53993502  3.76266315  4.19092695  4.6364993   4.8216851   5.07828679\n",
      "   5.14862832  5.71728468]]\n"
     ]
    }
   ],
   "source": [
    "\n",
    "(rate, sig) = wav.read(\"/home/jugs/Downloads/LDC93S1.wav\")\n",
    "mfcc_features = mfcc(sig ,rate)\n",
    "d_mfcc_feat = delta(mfcc_features, 2)\n",
    "fbank_feat = logfbank(sig, rate)\n",
    "\n",
    "print(fbank_feat[1:3, :])"
   ]
  },
  {
   "cell_type": "code",
   "execution_count": null,
   "metadata": {
    "collapsed": true
   },
   "outputs": [],
   "source": []
  }
 ],
 "metadata": {
  "kernelspec": {
   "display_name": "Python 3",
   "language": "python",
   "name": "python3"
  },
  "language_info": {
   "codemirror_mode": {
    "name": "ipython",
    "version": 3
   },
   "file_extension": ".py",
   "mimetype": "text/x-python",
   "name": "python",
   "nbconvert_exporter": "python",
   "pygments_lexer": "ipython3",
   "version": "3.6.2"
  }
 },
 "nbformat": 4,
 "nbformat_minor": 2
}
