{
 "cells": [
  {
   "cell_type": "code",
   "execution_count": 3,
   "metadata": {},
   "outputs": [],
   "source": [
    "import keras\n",
    "from keras.models import Sequential\n",
    "from keras.layers import Dense, Dropout, Activation\n",
    "from keras.optimizers import SGD\n",
    "import numpy as np"
   ]
  },
  {
   "cell_type": "code",
   "execution_count": 15,
   "metadata": {},
   "outputs": [],
   "source": [
    "x_train = np.random.random((1000, 20))\n",
    "y_train = keras.utils.to_categorical(np.random.randint(10, size=(1000,1)), num_classes=10)\n",
    "x_test  = np.random.random((100, 20))\n",
    "y_test = keras.utils.to_categorical(np.random.randint(10, size=(100,1)), num_classes=10)"
   ]
  },
  {
   "cell_type": "code",
   "execution_count": 16,
   "metadata": {
    "collapsed": true
   },
   "outputs": [],
   "source": [
    "model = Sequential()\n",
    "model.add(Dense(64, activation='relu', input_dim=20))\n",
    "model.add(Dropout(0.5))\n",
    "model.add(Dense(64, activation='relu'))\n",
    "model.add(Dropout(0.5))\n",
    "model.add(Dense(10, activation='softmax'))"
   ]
  },
  {
   "cell_type": "code",
   "execution_count": 20,
   "metadata": {},
   "outputs": [],
   "source": [
    "sgd = SGD(lr=0.01, decay=1e-6, momentum=0.9, nesterov=True) \n",
    "model.compile(loss='categorical_crossentropy', optimizer=sgd, \n",
    "              metrics=['accuracy'])    "
   ]
  },
  {
   "cell_type": "code",
   "execution_count": 21,
   "metadata": {},
   "outputs": [
    {
     "name": "stdout",
     "output_type": "stream",
     "text": [
      "Epoch 1/20\n",
      "1000/1000 [==============================] - 0s - loss: 2.4227 - acc: 0.0920     \n",
      "Epoch 2/20\n",
      "1000/1000 [==============================] - 0s - loss: 2.3980 - acc: 0.0820     \n",
      "Epoch 3/20\n",
      "1000/1000 [==============================] - 0s - loss: 2.3454 - acc: 0.1110     \n",
      "Epoch 4/20\n",
      "1000/1000 [==============================] - 0s - loss: 2.3160 - acc: 0.1190     \n",
      "Epoch 5/20\n",
      "1000/1000 [==============================] - 0s - loss: 2.3163 - acc: 0.1210     \n",
      "Epoch 6/20\n",
      "1000/1000 [==============================] - 0s - loss: 2.3017 - acc: 0.1270     \n",
      "Epoch 7/20\n",
      "1000/1000 [==============================] - 0s - loss: 2.3161 - acc: 0.1040     \n",
      "Epoch 8/20\n",
      "1000/1000 [==============================] - 0s - loss: 2.3081 - acc: 0.1030     \n",
      "Epoch 9/20\n",
      "1000/1000 [==============================] - 0s - loss: 2.2990 - acc: 0.1100     \n",
      "Epoch 10/20\n",
      "1000/1000 [==============================] - 0s - loss: 2.2989 - acc: 0.1350     \n",
      "Epoch 11/20\n",
      "1000/1000 [==============================] - 0s - loss: 2.3021 - acc: 0.1070     \n",
      "Epoch 12/20\n",
      "1000/1000 [==============================] - 0s - loss: 2.3124 - acc: 0.0950     \n",
      "Epoch 13/20\n",
      "1000/1000 [==============================] - 0s - loss: 2.2913 - acc: 0.1170     \n",
      "Epoch 14/20\n",
      "1000/1000 [==============================] - 0s - loss: 2.3022 - acc: 0.1230     \n",
      "Epoch 15/20\n",
      "1000/1000 [==============================] - 0s - loss: 2.2994 - acc: 0.0970     \n",
      "Epoch 16/20\n",
      "1000/1000 [==============================] - 0s - loss: 2.2973 - acc: 0.1180     \n",
      "Epoch 17/20\n",
      "1000/1000 [==============================] - 0s - loss: 2.2982 - acc: 0.1300     \n",
      "Epoch 18/20\n",
      "1000/1000 [==============================] - 0s - loss: 2.3021 - acc: 0.1170     \n",
      "Epoch 19/20\n",
      "1000/1000 [==============================] - 0s - loss: 2.2960 - acc: 0.1280     \n",
      "Epoch 20/20\n",
      "1000/1000 [==============================] - 0s - loss: 2.2947 - acc: 0.1130     \n",
      "100/100 [==============================] - 0s\n"
     ]
    }
   ],
   "source": [
    "model.fit(x_train, y_train, epochs=20, batch_size=128)\n",
    "score = model.evaluate(x_test, y_test, batch_size=128)"
   ]
  },
  {
   "cell_type": "code",
   "execution_count": null,
   "metadata": {
    "collapsed": true
   },
   "outputs": [],
   "source": []
  }
 ],
 "metadata": {
  "kernelspec": {
   "display_name": "Python 3",
   "language": "python",
   "name": "python3"
  },
  "language_info": {
   "codemirror_mode": {
    "name": "ipython",
    "version": 3
   },
   "file_extension": ".py",
   "mimetype": "text/x-python",
   "name": "python",
   "nbconvert_exporter": "python",
   "pygments_lexer": "ipython3",
   "version": "3.6.2"
  }
 },
 "nbformat": 4,
 "nbformat_minor": 2
}
