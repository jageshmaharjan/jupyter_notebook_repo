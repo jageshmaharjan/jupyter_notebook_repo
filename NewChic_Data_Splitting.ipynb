{
 "cells": [
  {
   "cell_type": "code",
   "execution_count": 1,
   "metadata": {},
   "outputs": [],
   "source": [
    "import os\n",
    "import sys\n",
    "import pandas as pd\n",
    "import json\n",
    "import numpy as np\n",
    "from sklearn.model_selection import train_test_split"
   ]
  },
  {
   "cell_type": "code",
   "execution_count": 2,
   "metadata": {},
   "outputs": [],
   "source": [
    "filepath = \"/home/jugs/PycharmProjects/ExperimentalProjects/new_chic/train.tsv\""
   ]
  },
  {
   "cell_type": "code",
   "execution_count": 3,
   "metadata": {},
   "outputs": [
    {
     "name": "stdout",
     "output_type": "stream",
     "text": [
      "   guid                   label  labelcode  \\\n",
      "0     0      Tattoos & Body Art          0   \n",
      "1     1      Tattoos & Body Art          0   \n",
      "2     2      Tattoos & Body Art          0   \n",
      "3     3  Kitchen & Dining & Bar          1   \n",
      "4     4      Tattoos & Body Art          0   \n",
      "\n",
      "                                            sentenes  \n",
      "0  10 Pcs Halloween Skull Temporary Tattoo Sticke...  \n",
      "1  10pcs Halloween Temporary Tattoo Stickers. A V...  \n",
      "2  10 Pcs Halloween Spider Temporary Tattoo Stick...  \n",
      "3  Honana CF-AT017 10 Pcs Set Round 3-Compartment...  \n",
      "4  5pcs Halloween Skull Temporary Tattoo Sticker....  \n"
     ]
    }
   ],
   "source": [
    "dataframe = pd.read_csv(filepath, delimiter='\\t')\n",
    "print(dataframe.head())"
   ]
  },
  {
   "cell_type": "code",
   "execution_count": 4,
   "metadata": {},
   "outputs": [],
   "source": [
    "train, test = train_test_split(dataframe, test_size=0.2, shuffle=True)\n",
    "train, val = train_test_split(train, test_size=0.2, shuffle=True)"
   ]
  },
  {
   "cell_type": "code",
   "execution_count": 5,
   "metadata": {},
   "outputs": [
    {
     "name": "stdout",
     "output_type": "stream",
     "text": [
      "13042\n",
      "4076\n",
      "3261\n"
     ]
    }
   ],
   "source": [
    "print(len(train))\n",
    "print(len(test))\n",
    "print(len(val))"
   ]
  },
  {
   "cell_type": "code",
   "execution_count": 6,
   "metadata": {},
   "outputs": [
    {
     "name": "stdout",
     "output_type": "stream",
     "text": [
      "guid\n",
      "label\n",
      "labelcode\n",
      "sentenes\n"
     ]
    }
   ],
   "source": [
    "for line in train:\n",
    "    print(line)"
   ]
  },
  {
   "cell_type": "code",
   "execution_count": 29,
   "metadata": {},
   "outputs": [],
   "source": [
    "# for i in range(len(train)):\n",
    "#     print(train[\"label\"][8])\n",
    "rows = next(train.iterrows())[1]"
   ]
  },
  {
   "cell_type": "code",
   "execution_count": 32,
   "metadata": {},
   "outputs": [
    {
     "data": {
      "text/plain": [
       "guid                                                      7119\n",
       "label                              Housekeeping & Organization\n",
       "labelcode                                                    5\n",
       "sentenes     Cosmetic Jewelry Organizer Office Storage Box....\n",
       "Name: 7119, dtype: object"
      ]
     },
     "execution_count": 32,
     "metadata": {},
     "output_type": "execute_result"
    }
   ],
   "source": [
    "rows"
   ]
  },
  {
   "cell_type": "code",
   "execution_count": 43,
   "metadata": {},
   "outputs": [],
   "source": [
    "trainrec = []\n",
    "\n",
    "for index, row in train.iterrows():\n",
    "    trainrec.append(str(row['guid']) + '\\t' + row['label'] + '\\t' + str(row['labelcode']) + '\\t' + row['sentenes'])\n",
    "    "
   ]
  },
  {
   "cell_type": "code",
   "execution_count": 45,
   "metadata": {},
   "outputs": [],
   "source": [
    "testrec = []\n",
    "\n",
    "for index, row in test.iterrows():\n",
    "        testrec.append(str(row['guid']) + '\\t' + row['label'] + '\\t' + str(row['labelcode']) + '\\t' + row['sentenes'])\n",
    "        "
   ]
  },
  {
   "cell_type": "code",
   "execution_count": 48,
   "metadata": {},
   "outputs": [],
   "source": [
    "valrec = []\n",
    "\n",
    "for index, row in val.iterrows():\n",
    "        valrec.append(str(row['guid']) + '\\t' + row['label'] + '\\t' + str(row['labelcode']) + '\\t' + row['sentenes'])\n",
    "        "
   ]
  },
  {
   "cell_type": "code",
   "execution_count": 49,
   "metadata": {},
   "outputs": [
    {
     "name": "stdout",
     "output_type": "stream",
     "text": [
      "13042\n",
      "4076\n",
      "3261\n"
     ]
    }
   ],
   "source": [
    "print(len(trainrec))\n",
    "print(len(testrec))\n",
    "print(len(valrec))"
   ]
  },
  {
   "cell_type": "code",
   "execution_count": 50,
   "metadata": {},
   "outputs": [],
   "source": [
    "with open(\"train.tsv\", \"w\") as fp:\n",
    "    for line in trainrec:\n",
    "        fp.write(line + '\\n')\n",
    "    fp.close()"
   ]
  },
  {
   "cell_type": "code",
   "execution_count": 51,
   "metadata": {},
   "outputs": [],
   "source": [
    "with open(\"test.tsv\", \"w\") as fp:\n",
    "    for line in testrec:\n",
    "        fp.write(line + \"\\n\")\n",
    "    fp.close()"
   ]
  },
  {
   "cell_type": "code",
   "execution_count": 52,
   "metadata": {},
   "outputs": [],
   "source": [
    "with open(\"eval.tsv\", \"w\") as fp:\n",
    "    for line in valrec:\n",
    "        fp.write(line + '\\n')\n",
    "    fp.close()"
   ]
  },
  {
   "cell_type": "code",
   "execution_count": null,
   "metadata": {},
   "outputs": [],
   "source": []
  }
 ],
 "metadata": {
  "kernelspec": {
   "display_name": "Python 3",
   "language": "python",
   "name": "python3"
  },
  "language_info": {
   "codemirror_mode": {
    "name": "ipython",
    "version": 3
   },
   "file_extension": ".py",
   "mimetype": "text/x-python",
   "name": "python",
   "nbconvert_exporter": "python",
   "pygments_lexer": "ipython3",
   "version": "3.6.8"
  }
 },
 "nbformat": 4,
 "nbformat_minor": 2
}
