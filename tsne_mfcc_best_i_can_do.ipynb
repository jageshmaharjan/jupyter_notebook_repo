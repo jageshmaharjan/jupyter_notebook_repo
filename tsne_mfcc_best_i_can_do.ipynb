{
 "cells": [
  {
   "cell_type": "code",
   "execution_count": 25,
   "metadata": {
    "collapsed": true
   },
   "outputs": [],
   "source": [
    "import os\n",
    "from pydub import AudioSegment\n",
    "import numpy as np\n",
    "import matplotlib.pyplot as plt\n",
    "from feature_extractors import MfccFeatureExtractor\n",
    "from sklearn.manifold import TSNE\n",
    "from scipy import *\n",
    "import python_speech_features"
   ]
  },
  {
   "cell_type": "code",
   "execution_count": 71,
   "metadata": {
    "collapsed": true
   },
   "outputs": [],
   "source": [
    "path = \"/home/jugs/Downloads/PresidentAudio/\" #\"/home/jugs/PycharmProjects/THU_SR/src/Recordings/Zh/enroll/\" #\"/home/jugs/Downloads/o/pred_pres/\" #\"/home/jugs/Downloads/PresidentAudio/\"   # \"/home/jugs/Audio/default_voice/\"\n",
    "result = [os.path.join(dp, f) for dp, dn, filenames in os.walk(path) for f in filenames if os.path.splitext(f)[1] == '.wav']\n",
    "labels = []\n",
    "files = []\n",
    "stacked = np.zeros((len(result),5187), dtype=float)"
   ]
  },
  {
   "cell_type": "code",
   "execution_count": 72,
   "metadata": {},
   "outputs": [],
   "source": [
    "for idx, file in enumerate(result):\n",
    "    files.append(file)\n",
    "    labels.append(file.split('/')[5])\n",
    "    "
   ]
  },
  {
   "cell_type": "code",
   "execution_count": 68,
   "metadata": {},
   "outputs": [],
   "source": [
    "# print(labels)"
   ]
  },
  {
   "cell_type": "code",
   "execution_count": 73,
   "metadata": {
    "collapsed": true
   },
   "outputs": [],
   "source": [
    "def mfcc(y, sr, numcep=13, delta=False, delta_delta=False, width=2, **kwargs):\n",
    "    \"\"\"\n",
    "    Compute MFCCs of Audio Signal\n",
    "    :param y: Audio signal\n",
    "    :param sr: Original sample rate\n",
    "    :param numcep: Number of MFCCs to compute\n",
    "    :param delta: If delta of MFCCs are required\n",
    "    :param delta_delta: If acceleration of MFCCs are required\n",
    "    :param width: Number of samples to consider for computing delta\n",
    "    :param kwargs: Other parameters to pass on python_speech_features like hop length etc.\n",
    "    :return: MFCCs (numpy array of shape n_frames * n_mfccs)\n",
    "    \"\"\"\n",
    "    mfccs = python_speech_features.mfcc(signal=y, samplerate=sr, numcep=numcep, **kwargs)\n",
    "    if delta:\n",
    "        d1 = python_speech_features.delta(mfccs, N=width)\n",
    "        mfccs = np.hstack((mfccs, d1))\n",
    "    if delta_delta:\n",
    "        d2 = python_speech_features.delta(mfccs[:, mfccs.shape[1] / 2:], N=width)\n",
    "        mfccs = np.hstack((mfccs, d2))\n",
    "    return mfccs"
   ]
  },
  {
   "cell_type": "code",
   "execution_count": 74,
   "metadata": {},
   "outputs": [],
   "source": [
    "def normalize_audio(y):\n",
    "    \"\"\"\n",
    "    Normalize amplitudes to lie between -1 to 1\n",
    "    :param y: Audio signal\n",
    "    :return: Normalized Audio signal\n",
    "    \"\"\"\n",
    "    # Todo : study other normalizing methods like rms normalizing\n",
    "    y = y * 1.0\n",
    "    return y / np.max(np.abs(y))"
   ]
  },
  {
   "cell_type": "code",
   "execution_count": 75,
   "metadata": {
    "collapsed": true
   },
   "outputs": [],
   "source": [
    "def remove_dc_offset(y):\n",
    "    \"\"\"\n",
    "    Remove DC offset from audio signal\n",
    "    :param y: Audio signal\n",
    "    :return: Signal without DC offset\n",
    "    \"\"\"\n",
    "    return y - np.mean(y)"
   ]
  },
  {
   "cell_type": "code",
   "execution_count": 81,
   "metadata": {},
   "outputs": [],
   "source": [
    "for i,file in enumerate(files):\n",
    "    audio = AudioSegment.from_file(file)\n",
    "#     print(file)\n",
    "    y, sr = np.array(audio.get_array_of_samples(), dtype=float), audio.frame_rate\n",
    "    y = normalize_audio(remove_dc_offset(y))\n",
    "    mfccs = mfcc(y=y, sr=sr)\n",
    "    \n",
    "#     plt.figure(figsize=(12,4))\n",
    "#     plt.ylabel(\"MFCCs\")\n",
    "#     plt.xlabel(\"Frames\")\n",
    "#     plt.title(\"MFCC\")\n",
    "#     plt.imshow(mfccs.T, origin=(0,0), aspect='auto', cmap='viridis')\n",
    "#     plt.colorbar()\n",
    "#     plt.show()\n",
    "    stacked[i] = mfccs.flatten()\n"
   ]
  },
  {
   "cell_type": "code",
   "execution_count": 82,
   "metadata": {},
   "outputs": [],
   "source": [
    "def plot_embedding(X, title=\"tsne dim reduction\"):\n",
    "    x_min, x_max = np.min(X, 0), np.max(X, 0)\n",
    "    X = (X - x_min) / (x_max - x_min)\n",
    "    for i in range(X.shape[0]):\n",
    "        plt.text(X[i, 0], X[i, 1], \n",
    "                 labels[i],\n",
    "                 color= 'red',\n",
    "                 fontdict={'weight': 'bold', 'size': 6})\n",
    "    if title is not None:\n",
    "        plt.title(title)"
   ]
  },
  {
   "cell_type": "code",
   "execution_count": 83,
   "metadata": {},
   "outputs": [
    {
     "name": "stdout",
     "output_type": "stream",
     "text": [
      "[t-SNE] Computing 91 nearest neighbors...\n",
      "[t-SNE] Indexed 210 samples in 0.022s...\n",
      "[t-SNE] Computed neighbors for 210 samples in 0.328s...\n",
      "[t-SNE] Computed conditional probabilities for sample 210 / 210\n",
      "[t-SNE] Mean sigma: 283.102207\n",
      "[t-SNE] KL divergence after 250 iterations with early exaggeration: 90.506821\n",
      "[t-SNE] Error after 1000 iterations: 0.483971\n"
     ]
    }
   ],
   "source": [
    "embedder = TSNE(n_components=2, verbose=1, init='pca', random_state=0)\n",
    "x_tsne = embedder.fit_transform(stacked)"
   ]
  },
  {
   "cell_type": "code",
   "execution_count": 84,
   "metadata": {},
   "outputs": [
    {
     "name": "stdout",
     "output_type": "stream",
     "text": [
      "(210, 5187)\n",
      "(210, 2)\n"
     ]
    }
   ],
   "source": [
    "print(stacked.shape)\n",
    "print(x_tsne.shape)"
   ]
  },
  {
   "cell_type": "code",
   "execution_count": 87,
   "metadata": {},
   "outputs": [
    {
     "data": {
      "image/png": "[encoded data removed]",
      "text/plain": [
       "<matplotlib.figure.Figure at 0x7f2ce2d82b70>"
      ]
     },
     "metadata": {},
     "output_type": "display_data"
    }
   ],
   "source": [
    "plot_embedding(x_tsne)\n",
    "plt.savefig(\"mfccs_cust.png\", bbox_inches='tight', dpi=720)\n",
    "plt.show()"
   ]
  },
  {
   "cell_type": "code",
   "execution_count": null,
   "metadata": {
    "collapsed": true
   },
   "outputs": [],
   "source": []
  }
 ],
 "metadata": {
  "kernelspec": {
   "display_name": "Python 3",
   "language": "python",
   "name": "python3"
  },
  "language_info": {
   "codemirror_mode": {
    "name": "ipython",
    "version": 3
   },
   "file_extension": ".py",
   "mimetype": "text/x-python",
   "name": "python",
   "nbconvert_exporter": "python",
   "pygments_lexer": "ipython3",
   "version": "3.6.3"
  }
 },
 "nbformat": 4,
 "nbformat_minor": 2
}
