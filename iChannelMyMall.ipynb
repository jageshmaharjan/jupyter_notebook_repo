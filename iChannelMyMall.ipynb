{
 "cells": [
  {
   "cell_type": "code",
   "execution_count": 1,
   "metadata": {},
   "outputs": [],
   "source": [
    "import os\n",
    "import sys\n",
    "import pandas as pd\n",
    "import re\n",
    "from PIL import Image\n",
    "import requests\n",
    "from io import BytesIO\n",
    "from matplotlib.pyplot import imshow\n",
    "import matplotlib.pyplot as plt\n",
    "import numpy as np\n",
    "from numpy import dot\n",
    "from numpy.linalg import norm\n",
    "%matplotlib inline"
   ]
  },
  {
   "cell_type": "code",
   "execution_count": 2,
   "metadata": {},
   "outputs": [],
   "source": [
    "file_path = \"/home/jugs/Downloads/mymall_datafeed new.xlsx\" # mymall_datafeed new.xlsx\""
   ]
  },
  {
   "cell_type": "code",
   "execution_count": 3,
   "metadata": {},
   "outputs": [],
   "source": [
    "data = pd.read_excel(file_path, sheet_name='Sheet2')"
   ]
  },
  {
   "cell_type": "code",
   "execution_count": 4,
   "metadata": {},
   "outputs": [
    {
     "name": "stdout",
     "output_type": "stream",
     "text": [
      "Format of Items\n"
     ]
    },
    {
     "data": {
      "text/html": [
       "<div>\n",
       "<style scoped>\n",
       "    .dataframe tbody tr th:only-of-type {\n",
       "        vertical-align: middle;\n",
       "    }\n",
       "\n",
       "    .dataframe tbody tr th {\n",
       "        vertical-align: top;\n",
       "    }\n",
       "\n",
       "    .dataframe thead th {\n",
       "        text-align: right;\n",
       "    }\n",
       "</style>\n",
       "<table border=\"1\" class=\"dataframe\">\n",
       "  <thead>\n",
       "    <tr style=\"text-align: right;\">\n",
       "      <th></th>\n",
       "      <th>ID</th>\n",
       "      <th>商品名稱</th>\n",
       "      <th>商品價格</th>\n",
       "      <th>URL</th>\n",
       "      <th>圖片URL</th>\n",
       "      <th>主敘述</th>\n",
       "    </tr>\n",
       "  </thead>\n",
       "  <tbody>\n",
       "    <tr>\n",
       "      <th>0</th>\n",
       "      <td>14974</td>\n",
       "      <td>NOW健而婷－MACA瑪卡男性專用(100顆/瓶)</td>\n",
       "      <td>899</td>\n",
       "      <td>http://www.mymall.com.tw/pro-14974.html</td>\n",
       "      <td>https://img.oeya.com/website/upload/photos/201...</td>\n",
       "      <td>美國原裝進口\\r\\n豐富胺基酸、B群、礦物質\\r\\n青春活力 ，精神旺盛\\r\\n調節男性生理機能</td>\n",
       "    </tr>\n",
       "    <tr>\n",
       "      <th>1</th>\n",
       "      <td>15004</td>\n",
       "      <td>NOW健而婷 濃縮蜂王漿(100顆/瓶)</td>\n",
       "      <td>975</td>\n",
       "      <td>http://www.mymall.com.tw/pro-15004.html</td>\n",
       "      <td>https://img.oeya.com/website/upload/photos/201...</td>\n",
       "      <td>美國原裝進口\\r\\n珍貴癸烯酸(10-HDA)高達6％\\r\\n高純度新鮮蜂王漿濃縮\\r\\n冷...</td>\n",
       "    </tr>\n",
       "    <tr>\n",
       "      <th>2</th>\n",
       "      <td>15012</td>\n",
       "      <td>NOW健而婷 高效亞麻仁油(100顆/瓶)</td>\n",
       "      <td>980</td>\n",
       "      <td>http://www.mymall.com.tw/pro-15012.html</td>\n",
       "      <td>https://img.oeya.com/website/upload/photos/201...</td>\n",
       "      <td>美國原裝進口\\r\\n冷壓製成，活性保留\\r\\n促進代謝，健康養生\\r\\n嚴選亞麻仁籽，經QA...</td>\n",
       "    </tr>\n",
       "    <tr>\n",
       "      <th>3</th>\n",
       "      <td>15028</td>\n",
       "      <td>&lt;b&gt;&lt;font color=red&gt;補氣強身好精神&lt;/font&gt;&lt;/b&gt;NOW健而婷 有氧...</td>\n",
       "      <td>750</td>\n",
       "      <td>http://www.mymall.com.tw/pro-15028.html</td>\n",
       "      <td>https://img.oeya.com/website/upload/photos/201...</td>\n",
       "      <td>美國原裝進口\\r\\n天天活力的泉源\\r\\n上班族：精神奕奕的秘密武器 \\r\\n學生族：課業加...</td>\n",
       "    </tr>\n",
       "    <tr>\n",
       "      <th>4</th>\n",
       "      <td>15039</td>\n",
       "      <td>NOW健而婷－全方位植物酵素(120顆/瓶)</td>\n",
       "      <td>1075</td>\n",
       "      <td>http://www.mymall.com.tw/pro-15039.html</td>\n",
       "      <td>https://img.oeya.com/website/upload/photos/201...</td>\n",
       "      <td>美國原裝進口\\r\\n忙碌外食族必備\\r\\n複方添加，8酵合1\\r\\n幫助消化、排便順暢\\r\\...</td>\n",
       "    </tr>\n",
       "  </tbody>\n",
       "</table>\n",
       "</div>"
      ],
      "text/plain": [
       "      ID                                               商品名稱  商品價格  \\\n",
       "0  14974                          NOW健而婷－MACA瑪卡男性專用(100顆/瓶)   899   \n",
       "1  15004                               NOW健而婷 濃縮蜂王漿(100顆/瓶)   975   \n",
       "2  15012                              NOW健而婷 高效亞麻仁油(100顆/瓶)   980   \n",
       "3  15028  <b><font color=red>補氣強身好精神</font></b>NOW健而婷 有氧...   750   \n",
       "4  15039                             NOW健而婷－全方位植物酵素(120顆/瓶)  1075   \n",
       "\n",
       "                                       URL  \\\n",
       "0  http://www.mymall.com.tw/pro-14974.html   \n",
       "1  http://www.mymall.com.tw/pro-15004.html   \n",
       "2  http://www.mymall.com.tw/pro-15012.html   \n",
       "3  http://www.mymall.com.tw/pro-15028.html   \n",
       "4  http://www.mymall.com.tw/pro-15039.html   \n",
       "\n",
       "                                               圖片URL  \\\n",
       "0  https://img.oeya.com/website/upload/photos/201...   \n",
       "1  https://img.oeya.com/website/upload/photos/201...   \n",
       "2  https://img.oeya.com/website/upload/photos/201...   \n",
       "3  https://img.oeya.com/website/upload/photos/201...   \n",
       "4  https://img.oeya.com/website/upload/photos/201...   \n",
       "\n",
       "                                                 主敘述  \n",
       "0   美國原裝進口\\r\\n豐富胺基酸、B群、礦物質\\r\\n青春活力 ，精神旺盛\\r\\n調節男性生理機能  \n",
       "1  美國原裝進口\\r\\n珍貴癸烯酸(10-HDA)高達6％\\r\\n高純度新鮮蜂王漿濃縮\\r\\n冷...  \n",
       "2  美國原裝進口\\r\\n冷壓製成，活性保留\\r\\n促進代謝，健康養生\\r\\n嚴選亞麻仁籽，經QA...  \n",
       "3  美國原裝進口\\r\\n天天活力的泉源\\r\\n上班族：精神奕奕的秘密武器 \\r\\n學生族：課業加...  \n",
       "4  美國原裝進口\\r\\n忙碌外食族必備\\r\\n複方添加，8酵合1\\r\\n幫助消化、排便順暢\\r\\...  "
      ]
     },
     "execution_count": 4,
     "metadata": {},
     "output_type": "execute_result"
    }
   ],
   "source": [
    "print(\"Format of Items\")\n",
    "data.head()"
   ]
  },
  {
   "cell_type": "code",
   "execution_count": 5,
   "metadata": {},
   "outputs": [
    {
     "name": "stdout",
     "output_type": "stream",
     "text": [
      "Total Items in a catalog:  2570\n"
     ]
    }
   ],
   "source": [
    "print(\"Total Items in a catalog: \" , len(data))"
   ]
  },
  {
   "cell_type": "code",
   "execution_count": 6,
   "metadata": {},
   "outputs": [
    {
     "name": "stdout",
     "output_type": "stream",
     "text": [
      "The header column\n",
      "['ID', '商品名稱', '商品價格', 'URL', '圖片URL', '主敘述']\n"
     ]
    }
   ],
   "source": [
    "mymalldata = list(data)\n",
    "print(\"The header column\")\n",
    "print(mymalldata)\n"
   ]
  },
  {
   "cell_type": "code",
   "execution_count": 7,
   "metadata": {},
   "outputs": [],
   "source": [
    "class MyMall:\n",
    "    def __init__(self, sku, title, price, itemurl, imageurl, description, embeddings, similarskus):\n",
    "        self.sku = sku\n",
    "        self.title = title\n",
    "        self.price = price\n",
    "        self.itemurl = itemurl\n",
    "        self.imageurl = imageurl\n",
    "        self.description = description\n",
    "        self.embeddings = embeddings\n",
    "        self.similarskus = []"
   ]
  },
  {
   "cell_type": "code",
   "execution_count": 8,
   "metadata": {
    "scrolled": false
   },
   "outputs": [],
   "source": [
    "mymallLst = []\n",
    "\n",
    "for count in range(len(data)):\n",
    "    title = \"\" \n",
    "    sku = \"\"\n",
    "    price = \"\"\n",
    "    itemurl = \"\"\n",
    "    pictureurl = \"\"\n",
    "    description = \"\"\n",
    "    embeddings = np.zeros([1,768])\n",
    "    for head in mymalldata:\n",
    "        if head == \"ID\":\n",
    "            sku = data[head][count]\n",
    "        if head == \"商品名稱\":\n",
    "            title = re.sub(r'\\<(.*?)\\>', '' ,data[head][count].strip())\n",
    "        if head == \"商品價格\":\n",
    "            price = data[head][count]\n",
    "        if head == \"URL\":\n",
    "            itemurl = data[head][count]\n",
    "        if head == \"圖片URL\":\n",
    "            pictureurl = data[head][count]\n",
    "        if head == \"主敘述\":\n",
    "            description = re.sub(r'\\<(.*?)\\>' , '',str(data[head][count]))\n",
    "            description = re.sub(r'[《》| 【】| ◆ | () | \\- | ● |↘|★|▼|■|☆|▉|◎|>|＊|?|█|※|．| *\\b]', ' ', description.strip())\n",
    "            description = re.sub('\\n|\\r', '', description)\n",
    "        embeddings = np.zeros([1,768])\n",
    "        similarskus = []\n",
    "#         print(sku , \": \", title, \": \", price, \": \" + pictureurl + \": \" + description)\n",
    "        mymallobj = MyMall(sku, title, price, itemurl, pictureurl, description, embeddings, similarskus)\n",
    "    mymallLst.append(mymallobj)"
   ]
  },
  {
   "cell_type": "code",
   "execution_count": 9,
   "metadata": {},
   "outputs": [
    {
     "name": "stdout",
     "output_type": "stream",
     "text": [
      "Items with no price:\n",
      "SKU's:  [28951, 28953, 40420, 33700, 42764, 33416, 33417, 33419, 33420, 33423, 33424, 35896, 35897, 35962, 37703, 37704, 37705, 37706, 37707, 37708, 37713, 37714, 37715, 38004, 35736, 42364, 34944, 41978, 21347]\n"
     ]
    }
   ],
   "source": [
    "zeroPrice = []\n",
    "for mymallitem in mymallLst:\n",
    "    if mymallitem.price <= 0:\n",
    "        zeroPrice.append(mymallitem.sku)\n",
    "print(\"Items with no price:\\nSKU's: \",zeroPrice)"
   ]
  },
  {
   "cell_type": "code",
   "execution_count": 10,
   "metadata": {},
   "outputs": [
    {
     "name": "stdout",
     "output_type": "stream",
     "text": [
      "Items with empty/no description:\n",
      "SKU's:  44\n"
     ]
    }
   ],
   "source": [
    "emptydescription = []\n",
    "for mymallitem in mymallLst:\n",
    "    if mymallitem.description == \"\":\n",
    "        emptydescription.append(mymallitem.sku)\n",
    "print(\"Items with empty/no description:\\nSKU's: \",len(emptydescription))"
   ]
  },
  {
   "cell_type": "code",
   "execution_count": 11,
   "metadata": {},
   "outputs": [
    {
     "name": "stdout",
     "output_type": "stream",
     "text": [
      "Items with very short or no description:\n",
      "SKU's 272\n"
     ]
    }
   ],
   "source": [
    "\n",
    "descriptionlessthan10 = []\n",
    "for mymallitem in mymallLst:\n",
    "    if len(mymallitem.description) > 0 and len(mymallitem.description) <= 10:\n",
    "        descriptionlessthan10.append(mymallitem.sku)\n",
    "#         print(mymallitem.sku, \":\" , mymallitem.description)\n",
    "print(\"Items with very short or no description:\\nSKU's\", len(descriptionlessthan10))"
   ]
  },
  {
   "cell_type": "code",
   "execution_count": 12,
   "metadata": {},
   "outputs": [
    {
     "name": "stdout",
     "output_type": "stream",
     "text": [
      "Items with description 10 to 20 in length\n",
      "\n",
      "Items with more than 10 and less or equal to 20 description:\n",
      "SKU's 292\n"
     ]
    }
   ],
   "source": [
    "print(\"Items with description 10 to 20 in length\\n\")\n",
    "descriptionlessthan20 = []\n",
    "for mymallitem in mymallLst:\n",
    "    if len(mymallitem.description) > 10 and len(mymallitem.description) <= 20:\n",
    "        descriptionlessthan20.append(mymallitem.sku)\n",
    "#         print(mymallitem.sku, \":\" , mymallitem.description)\n",
    "print(\"Items with more than 10 and less or equal to 20 description:\\nSKU's\", len(descriptionlessthan20))\n"
   ]
  },
  {
   "cell_type": "code",
   "execution_count": 13,
   "metadata": {},
   "outputs": [
    {
     "name": "stdout",
     "output_type": "stream",
     "text": [
      "Items with description 20 to 30 in length\n",
      "\n",
      "Items with very short or no description:\n",
      "SKU's 198\n"
     ]
    }
   ],
   "source": [
    "print(\"Items with description 20 to 30 in length\\n\")\n",
    "descriptionlessthan30 = []\n",
    "for mymallitem in mymallLst:\n",
    "    if len(mymallitem.description) > 20 and len(mymallitem.description) <= 30:\n",
    "        descriptionlessthan30.append(mymallitem.sku)\n",
    "#         print(mymallitem.sku, \":\" , mymallitem.description)\n",
    "print(\"Items with very short or no description:\\nSKU's\", len(descriptionlessthan30))"
   ]
  },
  {
   "cell_type": "code",
   "execution_count": 14,
   "metadata": {},
   "outputs": [
    {
     "name": "stdout",
     "output_type": "stream",
     "text": [
      "Items with description 30 to 40 in length\n",
      "\n",
      "Items with very short or no description:\n",
      "SKU's 208\n"
     ]
    }
   ],
   "source": [
    "print(\"Items with description 30 to 40 in length\\n\")\n",
    "descriptionlessthan40 = []\n",
    "for mymallitem in mymallLst:\n",
    "    if len(mymallitem.description) > 30 and len(mymallitem.description) <= 40:\n",
    "        descriptionlessthan40.append(mymallitem.sku)\n",
    "#         print(mymallitem.sku, \":\" , mymallitem.description)\n",
    "print(\"Items with very short or no description:\\nSKU's\", len(descriptionlessthan40))"
   ]
  },
  {
   "cell_type": "code",
   "execution_count": 15,
   "metadata": {},
   "outputs": [
    {
     "name": "stdout",
     "output_type": "stream",
     "text": [
      "Items with description 40 to 50 in length\n",
      "\n",
      "Items with very short or no description:\n",
      "SKU's 250\n"
     ]
    }
   ],
   "source": [
    "print(\"Items with description 40 to 50 in length\\n\")\n",
    "descriptionlessthan50 = []\n",
    "for mymallitem in mymallLst:\n",
    "    if len(mymallitem.description) > 40 and len(mymallitem.description) <= 50:\n",
    "        descriptionlessthan50.append(mymallitem.sku)\n",
    "#         print(mymallitem.sku, \":\" , mymallitem.description)\n",
    "print(\"Items with very short or no description:\\nSKU's\", len(descriptionlessthan50))"
   ]
  },
  {
   "cell_type": "code",
   "execution_count": 16,
   "metadata": {},
   "outputs": [
    {
     "name": "stdout",
     "output_type": "stream",
     "text": [
      "Items with description 50 to 100 in length\n",
      "\n",
      "Items with very short or no description:\n",
      "SKU's 918\n"
     ]
    }
   ],
   "source": [
    "print(\"Items with description 50 to 100 in length\\n\")\n",
    "descriptionlessthan100 = []\n",
    "for mymallitem in mymallLst:\n",
    "    if len(mymallitem.description) > 50 and len(mymallitem.description) <= 100:\n",
    "        descriptionlessthan100.append(mymallitem.sku)\n",
    "#         print(mymallitem.sku, \":\" , mymallitem.description)\n",
    "print(\"Items with very short or no description:\\nSKU's\", len(descriptionlessthan100))"
   ]
  },
  {
   "cell_type": "code",
   "execution_count": 17,
   "metadata": {},
   "outputs": [
    {
     "name": "stdout",
     "output_type": "stream",
     "text": [
      "Items with description 100 to 200 in length\n",
      "\n",
      "Items with very short or no description:\n",
      "SKU's 358\n"
     ]
    }
   ],
   "source": [
    "print(\"Items with description 100 to 200 in length\\n\")\n",
    "descriptionlessthan200 = []\n",
    "for mymallitem in mymallLst:\n",
    "    if len(mymallitem.description) > 100 and len(mymallitem.description) <= 200:\n",
    "        descriptionlessthan200.append(mymallitem.sku)\n",
    "#         print(mymallitem.sku, \":\" , mymallitem.description)\n",
    "print(\"Items with very short or no description:\\nSKU's\", len(descriptionlessthan200))"
   ]
  },
  {
   "cell_type": "code",
   "execution_count": 18,
   "metadata": {},
   "outputs": [
    {
     "name": "stdout",
     "output_type": "stream",
     "text": [
      "Items with description 200 to 300 in length\n",
      "\n",
      "Items with very short or no description:\n",
      "SKU's 24\n"
     ]
    }
   ],
   "source": [
    "print(\"Items with description 200 to 300 in length\\n\")\n",
    "descriptionlessthan300 = []\n",
    "for mymallitem in mymallLst:\n",
    "    if len(mymallitem.description) > 200 and len(mymallitem.description) <= 300:\n",
    "        descriptionlessthan300.append(mymallitem.sku)\n",
    "#         print(mymallitem.sku, \":\" , mymallitem.description)\n",
    "print(\"Items with very short or no description:\\nSKU's\", len(descriptionlessthan300))"
   ]
  },
  {
   "cell_type": "code",
   "execution_count": 19,
   "metadata": {},
   "outputs": [
    {
     "name": "stdout",
     "output_type": "stream",
     "text": [
      "Items with description 300 to 400 in length\n",
      "\n",
      "Items with very short or no description:\n",
      "SKU's 2\n"
     ]
    }
   ],
   "source": [
    "print(\"Items with description 300 to 400 in length\\n\")\n",
    "descriptionlessthan400 = []\n",
    "for mymallitem in mymallLst:\n",
    "    if len(mymallitem.description) > 300 and len(mymallitem.description) <= 400:\n",
    "        descriptionlessthan400.append(mymallitem.sku)\n",
    "#         print(mymallitem.sku, \":\" , mymallitem.description)\n",
    "print(\"Items with very short or no description:\\nSKU's\", len(descriptionlessthan400))"
   ]
  },
  {
   "cell_type": "code",
   "execution_count": 20,
   "metadata": {},
   "outputs": [
    {
     "name": "stdout",
     "output_type": "stream",
     "text": [
      "Items with description more than 400 in length\n",
      "\n",
      "Items with very short or no description:\n",
      "SKU's 4\n"
     ]
    }
   ],
   "source": [
    "print(\"Items with description more than 400 in length\\n\")\n",
    "descriptionmorethan400 = []\n",
    "for mymallitem in mymallLst:\n",
    "    if len(mymallitem.description) > 400:\n",
    "        descriptionmorethan400.append(mymallitem.sku)\n",
    "#         print(mymallitem.sku, \":\" , mymallitem.description)\n",
    "print(\"Items with very short or no description:\\nSKU's\", len(descriptionmorethan400))"
   ]
  },
  {
   "cell_type": "code",
   "execution_count": 21,
   "metadata": {},
   "outputs": [
    {
     "name": "stdout",
     "output_type": "stream",
     "text": [
      "[44, 272, 292, 198, 208, 250, 918, 358, 24, 2, 4]\n"
     ]
    },
    {
     "data": {
      "image/png": "[encoded data removed]",
      "text/plain": [
       "<Figure size 432x288 with 1 Axes>"
      ]
     },
     "metadata": {
      "needs_background": "light"
     },
     "output_type": "display_data"
    }
   ],
   "source": [
    "descRange = []\n",
    "descRange.append(len(emptydescription))\n",
    "descRange.append(len(descriptionlessthan10))\n",
    "descRange.append(len(descriptionlessthan20))\n",
    "descRange.append(len(descriptionlessthan30))\n",
    "descRange.append(len(descriptionlessthan40))\n",
    "descRange.append(len(descriptionlessthan50))\n",
    "descRange.append(len(descriptionlessthan100))\n",
    "descRange.append(len(descriptionlessthan200))\n",
    "descRange.append(len(descriptionlessthan300))\n",
    "descRange.append(len(descriptionlessthan400))\n",
    "descRange.append(len(descriptionmorethan400))\n",
    "\n",
    "print(descRange)\n",
    "\n",
    "fig, ax = plt.subplots()\n",
    "names = ['0', '1_10', '11_20', '21_30', '31_40', '41_50', '51_100', \n",
    "               '101_200','201_300','301_400', '>401']\n",
    "\n",
    "plt.bar(names, descRange)\n",
    "plt.show()\n"
   ]
  },
  {
   "cell_type": "code",
   "execution_count": 22,
   "metadata": {},
   "outputs": [],
   "source": [
    "def show_image(url):\n",
    "    response = requests.get(url)\n",
    "    img = Image.open(BytesIO(response.content))\n",
    "    imshow(img)"
   ]
  },
  {
   "cell_type": "code",
   "execution_count": 23,
   "metadata": {},
   "outputs": [
    {
     "name": "stdout",
     "output_type": "stream",
     "text": [
      "15041\n",
      "NOW健而婷 高效蜂膠萃取(100顆/瓶)\n",
      "http://www.mymall.com.tw/pro-15041.html\n",
      "美國原裝進口來自巴西無污染原始森林豐富黃酮類調整體質5:1萃取濃縮蜂膠 ，不含酒精每顆含３００毫克\n",
      "(1, 768)\n",
      "[]\n"
     ]
    },
    {
     "data": {
      "image/png": "[encoded data removed]",
      "text/plain": [
       "<Figure size 432x288 with 1 Axes>"
      ]
     },
     "metadata": {
      "needs_background": "light"
     },
     "output_type": "display_data"
    }
   ],
   "source": [
    "#  sku, title, price, itemurl, imageurl, description, similarskus\n",
    "i = 0\n",
    "for mymall in mymallLst:\n",
    "    if i == 5:\n",
    "        print(mymall.sku)\n",
    "        print(mymall.title)\n",
    "        print(mymall.itemurl)\n",
    "        show_image(mymall.imageurl)\n",
    "        print(mymall.description)\n",
    "        print(mymall.embeddings.shape)\n",
    "        print(mymall.similarskus)\n",
    "    i = i+1"
   ]
  },
  {
   "cell_type": "code",
   "execution_count": null,
   "metadata": {},
   "outputs": [],
   "source": []
  },
  {
   "cell_type": "code",
   "execution_count": null,
   "metadata": {},
   "outputs": [],
   "source": [
    "# Now for the embedding"
   ]
  },
  {
   "cell_type": "code",
   "execution_count": 24,
   "metadata": {},
   "outputs": [
    {
     "name": "stderr",
     "output_type": "stream",
     "text": [
      "/home/jugs/anaconda3/envs/myenv/lib/python3.6/site-packages/tensorflow/python/framework/dtypes.py:516: FutureWarning: Passing (type, 1) or '1type' as a synonym of type is deprecated; in a future version of numpy, it will be understood as (type, (1,)) / '(1,)type'.\n",
      "  _np_qint8 = np.dtype([(\"qint8\", np.int8, 1)])\n",
      "/home/jugs/anaconda3/envs/myenv/lib/python3.6/site-packages/tensorflow/python/framework/dtypes.py:517: FutureWarning: Passing (type, 1) or '1type' as a synonym of type is deprecated; in a future version of numpy, it will be understood as (type, (1,)) / '(1,)type'.\n",
      "  _np_quint8 = np.dtype([(\"quint8\", np.uint8, 1)])\n",
      "/home/jugs/anaconda3/envs/myenv/lib/python3.6/site-packages/tensorflow/python/framework/dtypes.py:518: FutureWarning: Passing (type, 1) or '1type' as a synonym of type is deprecated; in a future version of numpy, it will be understood as (type, (1,)) / '(1,)type'.\n",
      "  _np_qint16 = np.dtype([(\"qint16\", np.int16, 1)])\n",
      "/home/jugs/anaconda3/envs/myenv/lib/python3.6/site-packages/tensorflow/python/framework/dtypes.py:519: FutureWarning: Passing (type, 1) or '1type' as a synonym of type is deprecated; in a future version of numpy, it will be understood as (type, (1,)) / '(1,)type'.\n",
      "  _np_quint16 = np.dtype([(\"quint16\", np.uint16, 1)])\n",
      "/home/jugs/anaconda3/envs/myenv/lib/python3.6/site-packages/tensorflow/python/framework/dtypes.py:520: FutureWarning: Passing (type, 1) or '1type' as a synonym of type is deprecated; in a future version of numpy, it will be understood as (type, (1,)) / '(1,)type'.\n",
      "  _np_qint32 = np.dtype([(\"qint32\", np.int32, 1)])\n",
      "/home/jugs/anaconda3/envs/myenv/lib/python3.6/site-packages/tensorflow/python/framework/dtypes.py:525: FutureWarning: Passing (type, 1) or '1type' as a synonym of type is deprecated; in a future version of numpy, it will be understood as (type, (1,)) / '(1,)type'.\n",
      "  np_resource = np.dtype([(\"resource\", np.ubyte, 1)])\n",
      "/home/jugs/anaconda3/envs/myenv/lib/python3.6/site-packages/tensorboard/compat/tensorflow_stub/dtypes.py:541: FutureWarning: Passing (type, 1) or '1type' as a synonym of type is deprecated; in a future version of numpy, it will be understood as (type, (1,)) / '(1,)type'.\n",
      "  _np_qint8 = np.dtype([(\"qint8\", np.int8, 1)])\n",
      "/home/jugs/anaconda3/envs/myenv/lib/python3.6/site-packages/tensorboard/compat/tensorflow_stub/dtypes.py:542: FutureWarning: Passing (type, 1) or '1type' as a synonym of type is deprecated; in a future version of numpy, it will be understood as (type, (1,)) / '(1,)type'.\n",
      "  _np_quint8 = np.dtype([(\"quint8\", np.uint8, 1)])\n",
      "/home/jugs/anaconda3/envs/myenv/lib/python3.6/site-packages/tensorboard/compat/tensorflow_stub/dtypes.py:543: FutureWarning: Passing (type, 1) or '1type' as a synonym of type is deprecated; in a future version of numpy, it will be understood as (type, (1,)) / '(1,)type'.\n",
      "  _np_qint16 = np.dtype([(\"qint16\", np.int16, 1)])\n",
      "/home/jugs/anaconda3/envs/myenv/lib/python3.6/site-packages/tensorboard/compat/tensorflow_stub/dtypes.py:544: FutureWarning: Passing (type, 1) or '1type' as a synonym of type is deprecated; in a future version of numpy, it will be understood as (type, (1,)) / '(1,)type'.\n",
      "  _np_quint16 = np.dtype([(\"quint16\", np.uint16, 1)])\n",
      "/home/jugs/anaconda3/envs/myenv/lib/python3.6/site-packages/tensorboard/compat/tensorflow_stub/dtypes.py:545: FutureWarning: Passing (type, 1) or '1type' as a synonym of type is deprecated; in a future version of numpy, it will be understood as (type, (1,)) / '(1,)type'.\n",
      "  _np_qint32 = np.dtype([(\"qint32\", np.int32, 1)])\n",
      "/home/jugs/anaconda3/envs/myenv/lib/python3.6/site-packages/tensorboard/compat/tensorflow_stub/dtypes.py:550: FutureWarning: Passing (type, 1) or '1type' as a synonym of type is deprecated; in a future version of numpy, it will be understood as (type, (1,)) / '(1,)type'.\n",
      "  np_resource = np.dtype([(\"resource\", np.ubyte, 1)])\n"
     ]
    }
   ],
   "source": [
    "import tensorflow as tf\n",
    "from bert_serving.client import BertClient"
   ]
  },
  {
   "cell_type": "code",
   "execution_count": 25,
   "metadata": {},
   "outputs": [],
   "source": [
    "description = []\n",
    "for mymall in mymallLst:\n",
    "    line = \"\"\n",
    "    line = mymall.title\n",
    "    line = line + \" \" + mymall.description\n",
    "    description.append(re.sub('\\r|\\n','',line))"
   ]
  },
  {
   "cell_type": "code",
   "execution_count": 26,
   "metadata": {},
   "outputs": [
    {
     "name": "stdout",
     "output_type": "stream",
     "text": [
      "NOW健而婷 濃縮蜂王漿(100顆/瓶) 美國原裝進口珍貴癸烯酸 10 HDA 高達6％高純度新鮮蜂王漿濃縮冷凍乾燥技術，活性穩定\n",
      "Magic Gene 綠瑪黛萃取(90顆/瓶)三瓶組-到期日2020/03/31 高單位600毫克瑪黛茶炸煎炒 美食好夥伴增進代謝好清爽美國原裝進口高規格GMP廠製造\n",
      "【ECHAIN TECH】熊掌超人PMD驅蚊貼片-香茅香味 (10包/360片) 全新配方~尤加利驅蚊更有力  與日本技術合作,台灣生產  精萃天然PMD配方驅蚊更有力  SGS檢驗通過不含有害物質  外出郊遊、運動露營必備品  無油墨環保 熊掌立體圖騰\n"
     ]
    }
   ],
   "source": [
    "print(description[1])\n",
    "print(description[144])\n",
    "print(description[453])"
   ]
  },
  {
   "cell_type": "code",
   "execution_count": 51,
   "metadata": {},
   "outputs": [],
   "source": [
    "# Export only text\n",
    "with open('mymallDesc.txt', 'w') as descfile:\n",
    "    for line in description:\n",
    "        descfile.write(line + '\\n')\n",
    "    descfile.close()"
   ]
  },
  {
   "cell_type": "code",
   "execution_count": 27,
   "metadata": {},
   "outputs": [],
   "source": [
    "bc = BertClient()"
   ]
  },
  {
   "cell_type": "code",
   "execution_count": 28,
   "metadata": {},
   "outputs": [
    {
     "name": "stderr",
     "output_type": "stream",
     "text": [
      "/home/jugs/anaconda3/envs/myenv/lib/python3.6/site-packages/bert_serving/client/__init__.py:299: UserWarning: some of your sentences have more tokens than \"max_seq_len=25\" set on the server, as consequence you may get less-accurate or truncated embeddings.\n",
      "here is what you can do:\n",
      "- disable the length-check by create a new \"BertClient(check_length=False)\" when you do not want to display this warning\n",
      "- or, start a new server with a larger \"max_seq_len\"\n",
      "  '- or, start a new server with a larger \"max_seq_len\"' % self.length_limit)\n"
     ]
    }
   ],
   "source": [
    "encoded_desc = bc.encode(description)"
   ]
  },
  {
   "cell_type": "code",
   "execution_count": 29,
   "metadata": {},
   "outputs": [
    {
     "data": {
      "text/plain": [
       "2570"
      ]
     },
     "execution_count": 29,
     "metadata": {},
     "output_type": "execute_result"
    }
   ],
   "source": [
    "len(encoded_desc)"
   ]
  },
  {
   "cell_type": "code",
   "execution_count": 30,
   "metadata": {},
   "outputs": [
    {
     "data": {
      "text/plain": [
       "(2570, 768)"
      ]
     },
     "execution_count": 30,
     "metadata": {},
     "output_type": "execute_result"
    }
   ],
   "source": [
    "encoded_desc.shape"
   ]
  },
  {
   "cell_type": "code",
   "execution_count": 31,
   "metadata": {},
   "outputs": [
    {
     "data": {
      "text/plain": [
       "(768,)"
      ]
     },
     "execution_count": 31,
     "metadata": {},
     "output_type": "execute_result"
    }
   ],
   "source": [
    "encoded_desc[2044].shape"
   ]
  },
  {
   "cell_type": "code",
   "execution_count": 32,
   "metadata": {},
   "outputs": [],
   "source": [
    "for i, item in enumerate(mymallLst):\n",
    "    item.embeddings = encoded_desc[i]"
   ]
  },
  {
   "cell_type": "code",
   "execution_count": 52,
   "metadata": {
    "scrolled": false
   },
   "outputs": [
    {
     "data": {
      "text/plain": [
       "array([ 7.18676686e-01,  1.57989278e-01,  9.70694423e-03,  1.56308100e-01,\n",
       "       -6.27580658e-02, -5.92740119e-01,  2.21694827e-01,  7.66773760e-01,\n",
       "       -5.02357520e-02,  2.15368420e-01,  3.39722663e-01, -1.41663656e-01,\n",
       "        5.44224441e-01,  1.44616542e-02,  9.28182960e-01,  1.36565134e-01,\n",
       "        5.93661785e-01,  5.03045261e-01,  8.99079382e-01,  5.63453913e-01,\n",
       "        2.87991971e-01,  3.60192537e-01, -2.01116353e-01, -4.00553308e-02,\n",
       "        6.68766722e-02, -4.13079917e-01,  4.93204623e-01, -1.47748828e-01,\n",
       "       -2.03260779e-01,  1.08834580e-01,  3.33499640e-01, -1.53557613e-01,\n",
       "       -6.93094432e-01,  3.01922768e-01,  1.48423493e-01, -2.43749499e-01,\n",
       "        9.32644084e-02,  8.67526233e-02, -2.81661361e-01, -1.44094313e-02,\n",
       "        1.97826475e-01,  6.90413117e-01, -9.27953899e-01,  1.04370728e-01,\n",
       "        3.37408841e-01, -4.99008186e-02,  2.94363707e-01, -1.09487101e-01,\n",
       "       -5.65721989e-01, -6.72320485e-01, -5.24714530e-01,  1.05522432e+01,\n",
       "        3.56484145e-01,  3.42526317e-01, -6.78018257e-02, -4.68502820e-01,\n",
       "        1.23938948e-01, -9.30087790e-02,  3.44780892e-01, -2.15461433e-01,\n",
       "       -2.97117829e-01,  3.20209414e-01,  3.74400258e-01,  2.40278468e-02,\n",
       "       -2.70519435e-01,  3.82066309e-01,  8.57924938e-01,  1.39313785e-03,\n",
       "       -8.20263550e-02, -1.66874677e-01, -4.45926517e-01,  6.94161206e-02,\n",
       "       -6.24937236e-01, -3.10933232e-01,  7.06890047e-01,  1.94905326e-01,\n",
       "       -2.09173977e-01,  6.69573307e-01, -1.02382533e-01,  8.93386826e-02,\n",
       "        2.96398938e-01, -4.06087786e-02, -1.24256410e-01, -2.64313996e-01,\n",
       "        4.07445133e-02, -2.52076119e-01,  5.07259607e-01,  8.03344667e-01,\n",
       "       -2.28110850e-01,  3.62764180e-01,  1.80376545e-01,  7.36761332e-01,\n",
       "       -3.35647762e-01,  5.00930548e-01,  5.02030738e-02,  2.63151348e-01,\n",
       "        2.09781781e-01, -3.20920814e-03, -1.49141639e-01, -2.10934624e-01,\n",
       "        3.42658281e-01,  3.61432374e-01, -3.19008976e-01,  4.10963446e-01,\n",
       "        3.70966524e-01,  1.65562510e+00,  2.16396049e-01,  3.57425623e-02,\n",
       "       -9.18291062e-02, -2.41355985e-01, -1.52721554e-01,  5.57882547e-01,\n",
       "       -4.38073911e-02, -2.17735827e-01,  1.68199867e-01, -3.91759574e-02,\n",
       "       -1.49209350e-01, -2.61489987e-01,  7.90694356e-01,  1.67220443e-01,\n",
       "        1.30465657e-01,  1.75393105e-01,  5.77335536e-01, -2.12773345e-02,\n",
       "       -1.20997220e-01,  5.62674642e-01, -9.30707157e-02, -1.66305408e-01,\n",
       "       -1.91594325e-02, -1.66023880e-01,  2.19329372e-01, -1.80952743e-01,\n",
       "       -6.80745915e-02, -1.83388218e-02,  8.30906630e-01,  3.63126621e-02,\n",
       "       -2.62725875e-02, -2.92529345e-01, -3.99369955e-01,  3.26238602e-01,\n",
       "       -4.38102812e-01, -5.05366862e-01, -8.41862321e-01,  2.25030463e-02,\n",
       "       -4.63657640e-03, -1.36217162e-01,  2.32192799e-01,  3.20735484e-01,\n",
       "       -5.22929907e-01, -1.76621497e-01, -2.56945729e-01,  2.08234102e-01,\n",
       "       -7.85110146e-03,  2.84304589e-01,  1.60683766e-01,  8.67167830e-01,\n",
       "        5.30470490e-01, -3.40848655e-01,  2.23356150e-02, -1.16903394e-01,\n",
       "       -4.38439220e-01, -6.91438317e-01, -4.62894924e-02, -2.23051086e-01,\n",
       "        2.30249166e-02, -4.58874136e-01,  6.71926677e-01, -2.04477295e-01,\n",
       "        3.30201864e-01, -6.68681562e-02, -3.59576881e-01,  3.32822651e-01,\n",
       "        4.90818590e-01,  7.27354765e-01,  1.38065204e-01,  1.13198549e-01,\n",
       "        3.82447064e-01, -4.14811522e-01, -1.66831926e-01, -2.58602828e-01,\n",
       "       -4.88692336e-03, -2.42413864e-01,  3.55051272e-03,  5.13881624e-01,\n",
       "        4.82106626e-01,  1.22086518e-01,  2.20744327e-01, -3.11894745e-01,\n",
       "       -1.59725219e-01,  4.91884679e-01, -3.72794755e-02,  3.05127442e-01,\n",
       "        1.71554074e-01, -4.88823891e-01,  3.33887964e-01,  3.86004835e-01,\n",
       "       -2.06138402e-01,  8.71841431e-01,  4.23937917e-01,  1.38229966e-01,\n",
       "       -8.41401339e-01,  1.63879097e-01, -7.98107088e-02, -4.62129146e-01,\n",
       "       -3.25570375e-01,  2.44468406e-01, -6.03501916e-01,  6.60535991e-02,\n",
       "       -1.69069553e-03,  1.61133975e-01,  2.53805697e-01, -5.77672899e-01,\n",
       "        5.56846440e-01, -1.88283235e-01,  2.59759966e-02,  4.53936569e-02,\n",
       "        3.11429948e-01,  7.16046691e-01,  1.68408696e-02, -5.56014143e-02,\n",
       "       -2.92779535e-01, -1.75516486e-01, -3.23376268e-01, -3.75676602e-01,\n",
       "       -5.57471693e-01, -9.73808467e-02,  2.19647452e-01,  1.71704218e-01,\n",
       "        1.41654551e-01,  9.18653309e-01,  5.02511978e-01,  2.90899421e-03,\n",
       "        2.93169886e-01,  2.48318344e-01, -1.96363568e-01, -1.12078428e-01,\n",
       "       -2.38670602e-01,  1.81917861e-01,  1.87389597e-01, -7.86193460e-02,\n",
       "       -1.53791726e-01, -6.60993084e-02, -2.42810816e-01, -1.64104551e-01,\n",
       "       -1.57724723e-01,  3.69886220e-01, -2.24311873e-02, -2.16434598e-01,\n",
       "       -2.74271101e-01,  2.68536448e-01, -2.84207314e-02,  3.12182218e-01,\n",
       "       -1.83795527e-01, -2.77725738e-02,  8.34821686e-02, -1.59356408e-02,\n",
       "       -3.97775054e-01, -3.36588442e-01,  5.02290487e-01, -2.62962878e-01,\n",
       "       -8.16235989e-02,  4.29035306e-01, -5.40196061e-01, -1.51734501e-01,\n",
       "        5.58737516e-01,  3.93531799e-01, -4.60825950e-01, -2.37834342e-02,\n",
       "        7.31491387e-01,  4.05025870e-01, -6.75924122e-02, -1.12316914e-01,\n",
       "       -4.59960364e-02, -2.54850209e-01,  6.78242818e-02, -2.59890556e-01,\n",
       "        6.87070489e-02,  1.57170251e-01, -5.19503117e-01, -7.33795092e-02,\n",
       "       -2.00532839e-01, -3.13197374e-01,  1.28441334e-01,  2.19940454e-01,\n",
       "        2.97591258e-02, -3.35740656e-01, -2.59096697e-02,  6.46585166e-01,\n",
       "       -2.25772440e-01,  1.02589689e-02,  2.96297431e-01, -7.98913985e-02,\n",
       "       -3.92785557e-02,  7.49826074e-01,  1.47909129e+00,  5.39120100e-02,\n",
       "        8.96264538e-02,  8.37052166e-02, -8.84027779e-01,  1.54214621e-01,\n",
       "       -1.18650228e-01,  2.76884645e-01, -1.77654311e-01,  2.53586657e-02,\n",
       "        5.03781915e-01, -3.24694455e-01, -2.25119274e-02,  3.38681936e-02,\n",
       "        3.07709426e-02,  2.59971052e-01,  1.20040685e-01, -6.50190115e-01,\n",
       "       -9.86896008e-02,  2.12263450e-01, -4.56613272e-01, -5.54634333e-02,\n",
       "        4.87737149e-01,  5.01388550e-01,  3.00470531e-01, -5.03469944e-01,\n",
       "        1.36665195e-01, -5.22723019e-01, -4.81407702e-01,  4.55139309e-01,\n",
       "       -2.22186089e-01, -8.22483957e-01,  1.05700828e-02, -5.08376896e-01,\n",
       "        4.82885242e-01,  4.02143598e-01, -2.58468091e-01, -3.20302814e-01,\n",
       "       -1.45205915e-01, -8.56247246e-01,  2.52732813e-01,  3.27304751e-02,\n",
       "        4.45907488e-02,  7.42588416e-02,  7.09487438e-01, -2.65834816e-02,\n",
       "        1.41449064e-01,  2.18352497e-01, -1.36609882e-01, -3.18937480e-01,\n",
       "       -2.02427194e-01, -2.88699958e-02,  5.21302879e-01, -4.91993397e-01,\n",
       "       -4.80338670e-02, -6.62618876e-01,  6.30288363e-01, -5.85680842e-01,\n",
       "       -4.23315465e-01, -3.87751162e-01,  3.20805848e-01,  3.05170625e-01,\n",
       "       -2.23446786e-01,  1.96516097e-01,  1.08622923e-01, -9.78583694e-02,\n",
       "        7.23426044e-01,  5.47411144e-01,  1.50630744e-02,  5.61616957e-01,\n",
       "       -4.32721823e-02, -1.86759770e-01, -7.24788085e-02,  5.45813203e-01,\n",
       "        3.24957699e-01,  6.07078895e-02,  2.47522101e-01, -7.06824422e-01,\n",
       "        8.99884641e-01,  2.82879114e-01, -4.40569580e-01, -5.67783594e-01,\n",
       "        5.41022904e-02,  4.13740240e-02, -5.65396488e-01,  8.41139164e-03,\n",
       "        4.51386459e-02,  1.14227673e-02,  4.17825311e-01,  3.22828531e-01,\n",
       "        7.16770530e-01,  2.48252064e-01, -5.60376942e-01,  2.13661715e-01,\n",
       "       -5.70863903e-01, -3.85185003e-01, -8.04367661e-02, -4.66207772e-01,\n",
       "        1.59162581e-01,  3.40470761e-01,  3.25452507e-01, -2.36025661e-01,\n",
       "       -2.45137095e-01,  3.91073078e-01,  3.95990968e-01, -1.98548123e-01,\n",
       "        4.87542182e-01,  8.88345838e-02,  4.76159245e-01,  1.95822790e-01,\n",
       "       -5.38972437e-01, -4.56891984e-01, -1.93016857e-01, -5.97668707e-01,\n",
       "       -2.08843112e-01,  2.48177931e-01,  8.29152670e-03,  1.05823688e-01,\n",
       "        4.14217144e-01,  2.73992717e-01,  4.98076946e-01,  1.22316219e-02,\n",
       "        5.44275522e-01, -5.20968623e-02,  4.39057499e-02, -4.39738005e-01,\n",
       "       -3.31153780e-01,  1.44682899e-01,  5.38298905e-01,  2.08296254e-01,\n",
       "       -5.61521590e-01,  2.12819934e-01, -2.01144964e-01, -1.08634777e-01,\n",
       "        2.60014951e-01,  2.41523050e-02, -1.40660986e-01,  1.45716192e-02,\n",
       "        4.25799280e-01,  3.45856637e-01, -1.27149615e-02,  4.79774594e-01,\n",
       "        4.65310872e-01,  3.78764153e-01,  1.19356640e-01,  8.92037004e-02,\n",
       "       -3.59917194e-01,  5.79296470e-01,  4.81499285e-01,  7.24882483e-02,\n",
       "       -2.13115945e-01,  3.21466953e-01,  3.50341313e-02,  2.45745867e-01,\n",
       "       -1.27041638e-01,  2.36275010e-02,  4.92908567e-01,  5.18343337e-02,\n",
       "       -4.46270406e-01, -6.87458813e-02, -3.09679005e-02, -7.99611509e-02,\n",
       "       -1.32305235e-01,  1.43528610e-01,  3.98140922e-02,  1.19420299e-02,\n",
       "       -6.14171386e-01, -5.51666580e-02, -6.16268158e-01,  1.95635468e-01,\n",
       "       -3.05060390e-03,  2.13178501e-01,  3.94721776e-02, -1.97740898e-01,\n",
       "        2.32886031e-01,  7.77139738e-02,  2.93863297e-01,  1.07241586e-01,\n",
       "        3.70860010e-01, -4.39510196e-01, -2.94802070e-01, -1.05880911e-03,\n",
       "       -3.30862343e-01, -3.26444022e-02, -1.84492064e+00, -4.66051519e-01,\n",
       "        5.05899310e-01, -4.11596633e-02, -1.72627971e-01, -4.12072003e-01,\n",
       "        2.23593667e-01,  2.08923459e-01, -1.88102588e-01,  6.65364787e-02,\n",
       "       -2.73791909e-01,  7.57448792e-01,  4.47804868e-01,  1.83512215e-02,\n",
       "        5.21180630e-01, -8.76450956e-01, -4.68328655e-01, -2.88078077e-02,\n",
       "        9.45604503e-01, -3.02854359e-01,  4.19875860e-01,  2.87460923e-01,\n",
       "        1.83159262e-02, -5.68219900e-01,  4.76431340e-01, -7.29088187e-01,\n",
       "       -2.04213802e-02,  2.98254818e-01, -1.30417883e-01,  2.50548244e-01,\n",
       "        1.49750322e-01, -1.67407453e-01,  4.00062740e-01, -1.12427390e+00,\n",
       "        2.20970213e-01, -7.26406336e-01, -4.10584480e-01, -3.86879556e-02,\n",
       "        6.41627967e-01, -1.41044542e-01,  2.03374937e-01,  2.15354055e-01,\n",
       "        4.20600399e-02,  4.91855741e-01,  5.01330793e-01,  1.79336905e-01,\n",
       "        1.32208824e-01, -4.63370308e-02,  5.10959048e-03,  1.35986656e-01,\n",
       "        3.76268953e-01,  1.92357838e-01, -6.02018125e-02, -1.10846594e-01,\n",
       "        2.97063321e-01, -5.53016663e-02,  7.67920241e-02,  3.26751441e-01,\n",
       "       -6.76698506e-01,  3.95963311e-01,  4.16859053e-02,  8.01518202e-01,\n",
       "        3.11843324e-02, -1.53042540e-01,  1.06548548e-01, -2.48228982e-01,\n",
       "       -1.42148897e-01,  4.48307022e-03,  6.04575813e-01,  2.80928761e-01,\n",
       "        5.70371165e-04,  2.29683623e-01, -8.30139697e-01, -3.38673890e-01,\n",
       "        4.16414179e-02,  2.51833856e-01, -2.30908375e-02, -1.69574887e-01,\n",
       "       -2.48480573e-01, -3.14851224e-01,  2.25454316e-01, -7.43940845e-02,\n",
       "       -4.80299771e-01,  2.52839714e-01, -1.92335770e-02, -3.68940741e-01,\n",
       "       -2.17000484e-01, -8.35020244e-02, -5.45880198e-01,  1.35123685e-01,\n",
       "       -2.29310259e-01, -1.94616377e-01,  2.66729057e-01,  3.66485506e-01,\n",
       "       -3.64879817e-02,  4.27175641e-01, -1.03459597e-01, -8.07763487e-02,\n",
       "        9.91603285e-02, -2.86561996e-01, -3.10508192e-01, -6.07093751e-01,\n",
       "       -7.08562285e-02,  4.12716717e-01, -3.08014572e-01, -3.40338051e-01,\n",
       "        1.89068392e-01, -3.03729266e-01,  2.31901214e-01, -1.96605846e-02,\n",
       "       -5.95691390e-02, -1.54150605e-01, -1.51322663e-01, -5.30791104e-01,\n",
       "        5.92476606e-01,  3.34141850e-01, -5.31568587e-01,  1.18627883e-02,\n",
       "       -1.67022236e-02,  4.89817619e-01,  1.27235323e-01,  5.77924371e-01,\n",
       "       -8.88441280e-02, -5.58967926e-02, -7.47750461e-01, -5.54775953e-01,\n",
       "        9.23056364e-01, -2.15406209e-01,  9.93655846e-02, -1.98460385e-01,\n",
       "       -3.24734785e-02, -1.78007647e-01, -1.32135093e-01, -4.85606730e-01,\n",
       "        1.84650213e-01, -8.89140606e-01, -6.00490384e-02, -3.82979482e-01,\n",
       "       -9.31420401e-02,  9.24181044e-01, -7.28764951e-01, -4.47975546e-02,\n",
       "       -4.89967048e-01, -3.86365920e-01,  3.81078631e-01, -2.39968657e-01,\n",
       "        5.01307666e-01,  1.20287769e-01,  9.17909920e-01, -2.01477706e-01,\n",
       "        3.63636374e-01, -2.19617411e-01, -2.53248245e-01, -2.44800180e-01,\n",
       "       -8.45061690e-02, -4.04838026e-01, -7.58467838e-02,  7.27233291e-01,\n",
       "        5.71220666e-02, -1.53357029e-01, -7.21735656e-02,  3.20177734e-01,\n",
       "        2.00341046e-01, -2.72215009e-01, -1.46064714e-01, -4.22018886e-01,\n",
       "       -1.95491582e-01, -3.55551422e-01, -1.05835602e-01, -1.42356887e-01,\n",
       "       -4.06819247e-02, -2.12780774e-01, -3.94574031e-02, -2.61956990e-01,\n",
       "        3.35777372e-01,  4.89131749e-01,  2.89077580e-01, -3.69759142e-01,\n",
       "        2.34743893e-01, -2.58190911e-02,  3.36588442e-01,  8.76018286e-01,\n",
       "       -3.94920200e-01,  4.88452911e-01,  3.02646697e-01,  9.72751454e-02,\n",
       "        5.08032560e-01,  5.75569987e-01, -2.74969369e-01,  6.75995111e-01,\n",
       "       -3.05414110e-01,  2.25655269e-02,  4.47102189e-01, -2.08287254e-01,\n",
       "       -8.29709023e-02,  3.36657763e-01, -3.31901848e-01, -4.61228251e-01,\n",
       "        2.10888628e-02, -1.79108411e-01, -1.43425390e-01, -1.69517584e-02,\n",
       "        4.00490224e-01,  2.90504605e-01,  6.02538228e-01, -4.88280365e-03,\n",
       "        1.66496709e-01,  1.90558210e-02, -3.33361864e-01,  5.04625201e-01,\n",
       "        7.60689616e-01, -2.42068082e-01, -7.71104731e-03, -2.49748915e-01,\n",
       "       -3.07239238e-02, -9.00395960e-02,  7.17068166e-02, -1.22420216e+01,\n",
       "       -3.63857955e-01,  7.86582649e-01, -5.41257858e-01,  6.16395414e-01,\n",
       "       -5.09001791e-01, -5.18001243e-03,  5.98976195e-01, -1.75275996e-01,\n",
       "       -8.85681137e-02, -2.50038534e-01, -1.79389231e-02, -3.76169235e-01,\n",
       "       -4.28228766e-01,  2.63711751e-01, -1.42063797e-01, -2.78578937e-01,\n",
       "       -2.77195424e-01,  7.88366914e-01,  4.08412784e-01,  1.11809582e-01,\n",
       "       -2.69433111e-01, -7.27003813e-01, -3.10600936e-01, -1.91824008e-02,\n",
       "        4.61072534e-01, -1.49490610e-01,  7.16079533e-01, -6.46829307e-02,\n",
       "        2.34025195e-01,  2.71423042e-01,  5.28013259e-02,  2.64780134e-01,\n",
       "       -5.14593065e-01, -2.32463747e-01,  5.36656491e-02, -1.19231433e-01,\n",
       "        1.91490650e-01, -5.20756543e-01, -3.38070989e-01,  4.13541108e-01,\n",
       "       -5.15105128e-01,  2.88686037e-01,  2.96142876e-01,  5.95935822e-01,\n",
       "        5.21591166e-03,  4.10546482e-01,  7.42862165e-01,  1.04339801e-01,\n",
       "       -7.70888567e-01, -3.40307415e-01,  8.80928487e-02,  6.21518672e-01,\n",
       "        5.57605317e-03,  1.27537847e+00, -5.02497107e-02, -7.55280033e-02,\n",
       "        2.43110031e-01, -7.49155208e-02, -4.09512699e-01, -1.40013574e-02,\n",
       "       -1.10407650e+00,  1.99793562e-01,  1.82929501e-01, -1.84046417e-01,\n",
       "       -2.60636419e-01,  8.59063119e-03, -3.20082366e-01,  7.62560368e-02,\n",
       "        1.90151110e-02,  1.91138864e-01, -4.71717983e-01, -1.93274364e-01],\n",
       "      dtype=float32)"
      ]
     },
     "execution_count": 52,
     "metadata": {},
     "output_type": "execute_result"
    }
   ],
   "source": [
    "mymallLst[110].embeddings"
   ]
  },
  {
   "cell_type": "code",
   "execution_count": 34,
   "metadata": {},
   "outputs": [],
   "source": [
    "def cos_sim(a, b):\n",
    "    return dot(a, b)/(norm(a)*norm(b))"
   ]
  },
  {
   "cell_type": "code",
   "execution_count": 37,
   "metadata": {},
   "outputs": [],
   "source": [
    "import operator\n",
    "def get_topn_items(scoresSku, n =30):\n",
    "    sorted(scoresSku.items(), reverse=True, key = operator.itemgetter(1) )\n",
    "    skus = []\n",
    "    i = 0\n",
    "    for key, value in scoresSku.items():\n",
    "        if i <= n:\n",
    "            skus.append(key)\n",
    "            i = i + 1\n",
    "    return skus"
   ]
  },
  {
   "cell_type": "code",
   "execution_count": 38,
   "metadata": {},
   "outputs": [],
   "source": [
    "for i, targetitem in enumerate(mymallLst):\n",
    "    scoresSkus = {}\n",
    "    for j, otheritem in enumerate(mymallLst):\n",
    "        if targetitem.sku != otheritem.sku:\n",
    "            score = cos_sim(targetitem.embeddings , otheritem.embeddings)\n",
    "#             print(targetitem.embeddings.shape)\n",
    "            scoresSkus[otheritem.sku] = score\n",
    "    targetitem.similarskus = get_topn_items(scoresSkus)"
   ]
  },
  {
   "cell_type": "code",
   "execution_count": null,
   "metadata": {},
   "outputs": [],
   "source": []
  },
  {
   "cell_type": "code",
   "execution_count": null,
   "metadata": {},
   "outputs": [],
   "source": [
    "import json\n",
    "jsonmymall = {}\n",
    "for item in mymallLst:\n",
    "    jsonmymall['sku'] = item.sku\n",
    "    jsonmymall['title'] = item.title\n",
    "    jsonmymall['imageurl'] = item.imageurl\n",
    "    jsonmymall['description'] = item.description\n",
    "    jsonmymall['similarskus'] = item.similarskus\n",
    "    \n",
    "\n",
    "with open('mymalldata.json')"
   ]
  },
  {
   "cell_type": "code",
   "execution_count": 54,
   "metadata": {},
   "outputs": [
    {
     "name": "stdout",
     "output_type": "stream",
     "text": [
      "[14974, 15004, 15012, 15028, 15039, 15041, 15044, 15067, 15076, 15078, 15079, 15081, 15083, 15085, 15088, 15096, 15099, 15104, 15107, 15108, 15110, 15122, 15126, 15139, 15147, 15183, 15189, 15194, 15196, 15198, 15201]\n"
     ]
    }
   ],
   "source": [
    "print(mymallLst[100].similarskus)"
   ]
  },
  {
   "cell_type": "code",
   "execution_count": 46,
   "metadata": {},
   "outputs": [
    {
     "name": "stdout",
     "output_type": "stream",
     "text": [
      "NOW健而婷 啤酒酵母(200顆/瓶) : 美國原裝進口植物蛋白質，又稱「素雞精」B群的絕佳來源不含酒精，純素者可安心食用營養學界譽為最有魅力的營養品\n"
     ]
    }
   ],
   "source": [
    "for item in mymallLst:\n",
    "    if item.sku == 15189:\n",
    "        print(item.title , \":\" , item.description)\n",
    "        a = item.embeddings"
   ]
  },
  {
   "cell_type": "code",
   "execution_count": 87,
   "metadata": {},
   "outputs": [
    {
     "name": "stdout",
     "output_type": "stream",
     "text": [
      "NOW健而婷 濃縮蜂王漿(100顆/瓶) : 美國原裝進口珍貴癸烯酸 10 HDA 高達6％高純度新鮮蜂王漿濃縮冷凍乾燥技術，活性穩定\n"
     ]
    }
   ],
   "source": [
    "for item in mymallLst:\n",
    "    if item.sku == 15004:\n",
    "        print(item.title , \":\" , item.description)\n",
    "        b = item.embeddings"
   ]
  },
  {
   "cell_type": "code",
   "execution_count": 88,
   "metadata": {},
   "outputs": [
    {
     "name": "stdout",
     "output_type": "stream",
     "text": [
      "NOW健而婷 高效亞麻仁油(100顆/瓶) : 美國原裝進口冷壓製成，活性保留促進代謝，健康養生嚴選亞麻仁籽，經QAI國際認證\n"
     ]
    }
   ],
   "source": [
    "for item in mymallLst:\n",
    "    if item.sku == 15012:\n",
    "        print(item.title , \":\" , item.description)\n",
    "        c = item.embeddings"
   ]
  },
  {
   "cell_type": "code",
   "execution_count": 84,
   "metadata": {},
   "outputs": [
    {
     "name": "stdout",
     "output_type": "stream",
     "text": [
      "0.96571404\n"
     ]
    }
   ],
   "source": [
    "scoreab = cos_sim(a, b)\n",
    "print(scoreab)"
   ]
  },
  {
   "cell_type": "code",
   "execution_count": 83,
   "metadata": {},
   "outputs": [
    {
     "name": "stdout",
     "output_type": "stream",
     "text": [
      "0.97108674\n"
     ]
    }
   ],
   "source": [
    "scoreac = cos_sim(a, c)\n",
    "print(scoreac)"
   ]
  },
  {
   "cell_type": "code",
   "execution_count": 91,
   "metadata": {},
   "outputs": [
    {
     "name": "stdout",
     "output_type": "stream",
     "text": [
      "0.98022676\n"
     ]
    }
   ],
   "source": [
    "scorebc = cos_sim(b, c)\n",
    "print(scorebc)"
   ]
  },
  {
   "cell_type": "raw",
   "metadata": {},
   "source": [
    "Conclusion:\n",
    "    1) The dataset is traditional character, so the accuracy tends to be low. \n",
    "    2) The dataset consists of mixed english words/characters along with the traditional chinese characters\n",
    "        Eg: NOW健而婷, 經QAI國際認證\n",
    "    3) Most of the words/characters are related to noun (such as company name, product), which have never appeared in \n",
    "            the wikipedia/open-source dataset.\n",
    "            Eg: 瑪卡, 健而婷\n",
    "    4) Retraining with the data will improve the accuracy of the model over time"
   ]
  },
  {
   "cell_type": "raw",
   "metadata": {},
   "source": [
    "\n",
    "# Checking for the vocab [Research in progress.... (not compatible with BERT)]"
   ]
  },
  {
   "cell_type": "code",
   "execution_count": 56,
   "metadata": {},
   "outputs": [
    {
     "data": {
      "text/plain": [
       "True"
      ]
     },
     "execution_count": 56,
     "metadata": {},
     "output_type": "execute_result"
    }
   ],
   "source": [
    "import sentencepiece as spm\n",
    "\n",
    "spm.SentencePieceTrainer.Train('--input=mymallDesc.txt --model_prefix=mymall --vocab_size=5000')\n"
   ]
  },
  {
   "cell_type": "code",
   "execution_count": null,
   "metadata": {},
   "outputs": [],
   "source": []
  }
 ],
 "metadata": {
  "kernelspec": {
   "display_name": "Python (myenv)",
   "language": "python",
   "name": "myenv"
  },
  "language_info": {
   "codemirror_mode": {
    "name": "ipython",
    "version": 3
   },
   "file_extension": ".py",
   "mimetype": "text/x-python",
   "name": "python",
   "nbconvert_exporter": "python",
   "pygments_lexer": "ipython3",
   "version": "3.6.9"
  }
 },
 "nbformat": 4,
 "nbformat_minor": 2
}
