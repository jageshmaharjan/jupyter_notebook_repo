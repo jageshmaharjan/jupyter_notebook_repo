{
 "cells": [
  {
   "cell_type": "code",
   "execution_count": 30,
   "metadata": {
    "collapsed": true
   },
   "outputs": [],
   "source": [
    "import os\n",
    "from pydub import AudioSegment\n",
    "import numpy as np\n",
    "import matplotlib.pyplot as plt\n",
    "from feature_extractors import MfccFeatureExtractor\n",
    "from sklearn.manifold import TSNE\n",
    "from scipy import *\n",
    "import python_speech_features"
   ]
  },
  {
   "cell_type": "code",
   "execution_count": 11,
   "metadata": {
    "collapsed": true
   },
   "outputs": [],
   "source": [
    "def mfcc(y, sr, numcep=13, delta=False, delta_delta=False, width=2, **kwargs):\n",
    "    \"\"\"\n",
    "    Compute MFCCs of Audio Signal\n",
    "    :param y: Audio signal\n",
    "    :param sr: Original sample rate\n",
    "    :param numcep: Number of MFCCs to compute\n",
    "    :param delta: If delta of MFCCs are required\n",
    "    :param delta_delta: If acceleration of MFCCs are required\n",
    "    :param width: Number of samples to consider for computing delta\n",
    "    :param kwargs: Other parameters to pass on python_speech_features like hop length etc.\n",
    "    :return: MFCCs (numpy array of shape n_frames * n_mfccs)\n",
    "    \"\"\"\n",
    "    mfccs = python_speech_features.mfcc(signal=y, samplerate=sr, numcep=numcep, **kwargs)\n",
    "    if delta:\n",
    "        d1 = python_speech_features.delta(mfccs, N=width)\n",
    "        mfccs = np.hstack((mfccs, d1))\n",
    "    if delta_delta:\n",
    "        d2 = python_speech_features.delta(mfccs[:, mfccs.shape[1] / 2:], N=width)\n",
    "        mfccs = np.hstack((mfccs, d2))\n",
    "    return mfccs"
   ]
  },
  {
   "cell_type": "code",
   "execution_count": 12,
   "metadata": {
    "collapsed": true
   },
   "outputs": [],
   "source": [
    "def remove_dc_offset(y):\n",
    "    \"\"\"\n",
    "    Remove DC offset from audio signal\n",
    "    :param y: Audio signal\n",
    "    :return: Signal without DC offset\n",
    "    \"\"\"\n",
    "    return y - np.mean(y)"
   ]
  },
  {
   "cell_type": "code",
   "execution_count": 13,
   "metadata": {
    "collapsed": true
   },
   "outputs": [],
   "source": [
    "def normalize_audio(y):\n",
    "    \"\"\"\n",
    "    Normalize amplitudes to lie between -1 to 1\n",
    "    :param y: Audio signal\n",
    "    :return: Normalized Audio signal\n",
    "    \"\"\"\n",
    "    # Todo : study other normalizing methods like rms normalizing\n",
    "    y = y * 1.0\n",
    "    return y / np.max(np.abs(y))"
   ]
  },
  {
   "cell_type": "code",
   "execution_count": 40,
   "metadata": {
    "collapsed": true
   },
   "outputs": [],
   "source": [
    "path = \"/home/jugs/Downloads/PresidentAudio/\" #\"/home/jugs/PycharmProjects/THU_SR/src/Recordings/Zh/enroll/\" #\"/home/jugs/Downloads/o/pred_pres/\" #\"/home/jugs/Downloads/PresidentAudio/\"   # \"/home/jugs/Audio/default_voice/\"\n",
    "result = [os.path.join(dp, f) for dp, dn, filenames in os.walk(path) for f in filenames if os.path.splitext(f)[1] == '.wav']\n",
    "# audio = np.random.randint((6,512,13))   # Create MNIST Like stack of image\n",
    "stacked = np.zeros((len(result),279552))  # for logmel(4 sec, 64 log,64 context) \n",
    "labels = []\n",
    "files = []"
   ]
  },
  {
   "cell_type": "code",
   "execution_count": 41,
   "metadata": {},
   "outputs": [],
   "source": [
    "for idx, file in enumerate(result):\n",
    "    files.append(file)\n",
    "#     print(file)\n",
    "    labels.append(file.split('/')[5])\n",
    "    feature_extraction = MfccFeatureExtractor(mfccs=13, context=64, stride=3)\n",
    "    audio = AudioSegment.from_file(file)\n",
    "    signal, sr = np.array(audio.get_array_of_samples(), dtype=float), float(audio.frame_rate)\n",
    "#     print(signal)\n",
    "    x_feat = feature_extraction(y=signal, sr=sr)\n",
    "    stacked[idx] = (x_feat.flatten())  # nan_to_num\n",
    "#     np.random.shuffle(stacked)\n",
    "#     x = stacked[idx]\n",
    "#     x[where(isinf(x))]= 0.0\n",
    "#     y[idx] = x\n",
    "#     y[where(isnan(y))]=0.0"
   ]
  },
  {
   "cell_type": "code",
   "execution_count": 101,
   "metadata": {
    "collapsed": true
   },
   "outputs": [],
   "source": [
    "# print(labels)\n",
    "#print(stacked)"
   ]
  },
  {
   "cell_type": "code",
   "execution_count": 42,
   "metadata": {
    "collapsed": true
   },
   "outputs": [],
   "source": [
    "def plot_embedding(X, title=\"tsne dim reduction\"):\n",
    "    x_min, x_max = np.min(X, 0), np.max(X, 0)\n",
    "    X = (X - x_min) / (x_max - x_min)\n",
    "    for i in range(X.shape[0]):\n",
    "        plt.text(X[i, 0], X[i, 1], labels[i],\n",
    "                 color= 'red',\n",
    "                 fontdict={'weight': 'bold', 'size': 4})\n",
    "    if title is not None:\n",
    "        plt.title(title)"
   ]
  },
  {
   "cell_type": "code",
   "execution_count": 7,
   "metadata": {},
   "outputs": [
    {
     "name": "stdout",
     "output_type": "stream",
     "text": [
      "[t-SNE] Computing 121 nearest neighbors...\n",
      "[t-SNE] Indexed 210 samples in 0.738s...\n",
      "[t-SNE] Computed neighbors for 210 samples in 18.152s...\n",
      "[t-SNE] Computed conditional probabilities for sample 210 / 210\n",
      "[t-SNE] Mean sigma: 2264.259482\n",
      "[t-SNE] Computed conditional probabilities in 0.034s\n",
      "[t-SNE] Iteration 50: error = 45.3256989, gradient norm = 0.0027620 (50 iterations in 0.324s)\n",
      "[t-SNE] Iteration 100: error = 47.2887764, gradient norm = 0.0021554 (50 iterations in 0.171s)\n",
      "[t-SNE] Iteration 150: error = 54.6307259, gradient norm = 0.0093416 (50 iterations in 0.186s)\n",
      "[t-SNE] Iteration 200: error = 61.4010811, gradient norm = 0.0044378 (50 iterations in 0.164s)\n",
      "[t-SNE] Iteration 250: error = 80.6661148, gradient norm = 0.0376346 (50 iterations in 0.165s)\n",
      "[t-SNE] KL divergence after 250 iterations with early exaggeration: 80.666115\n",
      "[t-SNE] Iteration 300: error = 1.5081038, gradient norm = 0.0010701 (50 iterations in 0.175s)\n",
      "[t-SNE] Iteration 350: error = 1.1602831, gradient norm = 0.0004739 (50 iterations in 0.175s)\n",
      "[t-SNE] Iteration 400: error = 1.0047506, gradient norm = 0.0002894 (50 iterations in 0.170s)\n",
      "[t-SNE] Iteration 450: error = 0.9102216, gradient norm = 0.0002057 (50 iterations in 0.168s)\n",
      "[t-SNE] Iteration 500: error = 0.8429647, gradient norm = 0.0001621 (50 iterations in 0.154s)\n",
      "[t-SNE] Iteration 550: error = 0.7887068, gradient norm = 0.0001367 (50 iterations in 0.161s)\n",
      "[t-SNE] Iteration 600: error = 0.7412759, gradient norm = 0.0001200 (50 iterations in 0.159s)\n",
      "[t-SNE] Iteration 650: error = 0.6995217, gradient norm = 0.0001043 (50 iterations in 0.160s)\n",
      "[t-SNE] Iteration 700: error = 0.6625199, gradient norm = 0.0000941 (50 iterations in 0.155s)\n",
      "[t-SNE] Iteration 750: error = 0.6290526, gradient norm = 0.0000860 (50 iterations in 0.159s)\n",
      "[t-SNE] Iteration 800: error = 0.5968928, gradient norm = 0.0000792 (50 iterations in 0.179s)\n",
      "[t-SNE] Iteration 850: error = 0.5675905, gradient norm = 0.0000742 (50 iterations in 0.178s)\n",
      "[t-SNE] Iteration 900: error = 0.5383235, gradient norm = 0.0000710 (50 iterations in 0.172s)\n",
      "[t-SNE] Iteration 950: error = 0.5093169, gradient norm = 0.0000688 (50 iterations in 0.188s)\n",
      "[t-SNE] Iteration 1000: error = 0.4830411, gradient norm = 0.0000598 (50 iterations in 0.158s)\n",
      "[t-SNE] Error after 1000 iterations: 0.483041\n"
     ]
    }
   ],
   "source": [
    "embedder = TSNE(n_components=2, perplexity=40, verbose=2, init='pca', random_state=0)\n",
    "x_tsne = embedder.fit_transform(stacked)\n",
    "# print(x_tsne)"
   ]
  },
  {
   "cell_type": "code",
   "execution_count": 9,
   "metadata": {},
   "outputs": [
    {
     "name": "stdout",
     "output_type": "stream",
     "text": [
      "(210, 2)\n",
      "(210, 279552)\n"
     ]
    }
   ],
   "source": [
    "print(x_tsne.shape)\n",
    "print(stacked.shape)"
   ]
  },
  {
   "cell_type": "code",
   "execution_count": 10,
   "metadata": {},
   "outputs": [
    {
     "data": {
      "image/png": "[encoded data removed]",
      "text/plain": [
       "<matplotlib.figure.Figure at 0x7f300c51feb8>"
      ]
     },
     "metadata": {},
     "output_type": "display_data"
    }
   ],
   "source": [
    "plot_embedding(x_tsne)\n",
    "plt.savefig(\"logmel.png\", bbox_inches='tight', dpi=720)\n",
    "plt.show()"
   ]
  },
  {
   "cell_type": "code",
   "execution_count": null,
   "metadata": {
    "collapsed": true
   },
   "outputs": [],
   "source": []
  }
 ],
 "metadata": {
  "kernelspec": {
   "display_name": "Python 3",
   "language": "python",
   "name": "python3"
  },
  "language_info": {
   "codemirror_mode": {
    "name": "ipython",
    "version": 3
   },
   "file_extension": ".py",
   "mimetype": "text/x-python",
   "name": "python",
   "nbconvert_exporter": "python",
   "pygments_lexer": "ipython3",
   "version": "3.6.3"
  }
 },
 "nbformat": 4,
 "nbformat_minor": 2
}
