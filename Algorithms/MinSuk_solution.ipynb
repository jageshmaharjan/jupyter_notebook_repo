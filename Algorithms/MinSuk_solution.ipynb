{
 "cells": [
  {
   "cell_type": "code",
   "execution_count": 1,
   "metadata": {},
   "outputs": [],
   "source": [
    "\"\"\"\n",
    "given a string of number, you are required to count the number of ways to decode the given string of number into albhabetical string.\n",
    "Note: there are 26 albhabets, a to z. i.e a represent 1, b represent 2 so fourth to z represent 26.\n",
    "for example: given string of number is \"12345\"\n",
    "we can docode \"12345\" in 3 ways:\n",
    "   [\"abcde\", \"lcde\", \"awde\"]\n",
    "another example:\n",
    "Input is \"234\" can be decoded as \"bcd\", \"wd\", so the program should return 2.\n",
    "Explanation:: 1st way: 2 decodes to b, 3 decodes to c, 4 decodes to d\n",
    "              2nd way: 23 decodes to w, 4 decodes to d\n",
    "\"\"\"\n"
   ]
  },
  {
   "cell_type": "code",
   "execution_count": 2,
   "metadata": {},
   "outputs": [],
   "source": [
    "def get_alpha(num):\n",
    "    num = int(num)\n",
    "    if num > 26 or num == 0:\n",
    "        return None\n",
    "    else:\n",
    "        return chr(num + 96)"
   ]
  },
  {
   "cell_type": "code",
   "execution_count": 3,
   "metadata": {},
   "outputs": [],
   "source": [
    "def decode(numStr):\n",
    "    length = len(numStr)\n",
    "    \n",
    "    def recurse(decoded, i):\n",
    "        if i == length - 1:\n",
    "            return [decoded]\n",
    "        if i == length - 2:\n",
    "            alpha = get_alpha(numStr[i+1])\n",
    "            if alpha is None:\n",
    "                return []\n",
    "            return [decoded + alpha]\n",
    "        \n",
    "        firstAlpha = get_alpha(numStr[i+1])\n",
    "        secondAlpha = get_alpha(numStr[i+1:i+3])\n",
    "        if firstAlpha is None:\n",
    "            return []\n",
    "        if secondAlpha is None:\n",
    "            return recurse(decoded + firstAlpha, i+1)\n",
    "        first = recurse(decoded + firstAlpha, i+1)\n",
    "        second = recurse(decoded + secondAlpha, i+2)\n",
    "        return first + second\n",
    "\n",
    "    if length == 0:\n",
    "        return []\n",
    "    if length == 1:\n",
    "        alpha = get_alpha(numStr)\n",
    "        if alpha is None:\n",
    "            return []\n",
    "        return [alpha]\n",
    "    return recurse(\"\", -1)"
   ]
  },
  {
   "cell_type": "code",
   "execution_count": 4,
   "metadata": {},
   "outputs": [
    {
     "name": "stdout",
     "output_type": "stream",
     "text": [
      "['dcb']\n"
     ]
    }
   ],
   "source": [
    "print(decode(\"432\"))\n",
    "# print(decode(\"12345\"))\n",
    "# print(decode(\"\"))\n",
    "# print(decode(\"0\"))\n",
    "# print(decode(\"55\"))"
   ]
  },
  {
   "cell_type": "code",
   "execution_count": 5,
   "metadata": {},
   "outputs": [
    {
     "name": "stdout",
     "output_type": "stream",
     "text": [
      "['abcde', 'awde', 'lcde']\n"
     ]
    }
   ],
   "source": [
    "print(decode(\"12345\"))"
   ]
  },
  {
   "cell_type": "code",
   "execution_count": null,
   "metadata": {},
   "outputs": [],
   "source": []
  },
  {
   "cell_type": "code",
   "execution_count": null,
   "metadata": {},
   "outputs": [],
   "source": []
  },
  {
   "cell_type": "code",
   "execution_count": 6,
   "metadata": {},
   "outputs": [],
   "source": [
    "def count_ways_array(arr, X):\n",
    "    def count_up(soFar, i):\n",
    "        if soFar > X:\n",
    "            return 0\n",
    "        elif soFar == X:\n",
    "            return 1\n",
    "        up = 0\n",
    "        for j in range(i+1, len(arr)):\n",
    "            up += count_up(soFar + arr[j], j)\n",
    "        return up\n",
    "    \n",
    "    arr.sort()\n",
    "    count = count_up(0, -1)\n"
   ]
  },
  {
   "cell_type": "code",
   "execution_count": 7,
   "metadata": {},
   "outputs": [
    {
     "name": "stdout",
     "output_type": "stream",
     "text": [
      "None\n"
     ]
    }
   ],
   "source": [
    "print(count_ways_array([3, 5, 6, 8, 10], 18))"
   ]
  },
  {
   "cell_type": "code",
   "execution_count": null,
   "metadata": {},
   "outputs": [],
   "source": []
  }
 ],
 "metadata": {
  "kernelspec": {
   "display_name": "Python 3",
   "language": "python",
   "name": "python3"
  },
  "language_info": {
   "codemirror_mode": {
    "name": "ipython",
    "version": 3
   },
   "file_extension": ".py",
   "mimetype": "text/x-python",
   "name": "python",
   "nbconvert_exporter": "python",
   "pygments_lexer": "ipython3",
   "version": "3.6.8"
  }
 },
 "nbformat": 4,
 "nbformat_minor": 2
}
