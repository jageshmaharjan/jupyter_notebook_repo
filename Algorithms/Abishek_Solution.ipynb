{
 "cells": [
  {
   "cell_type": "code",
   "execution_count": 2,
   "metadata": {},
   "outputs": [
    {
     "name": "stdout",
     "output_type": "stream",
     "text": [
      "3\n",
      "1 sg\n",
      "2 hk\n",
      "3 hk\n",
      "5\n",
      "1 1 10\n",
      "2 2 12\n",
      "3 3 11\n",
      "4 2 7\n",
      "5 1 4\n",
      "1 7.0\n",
      "2 9.5\n",
      "3 11.0\n",
      "sg 7.0\n",
      "hk 10.0\n"
     ]
    }
   ],
   "source": [
    "num_clients = int(input())\n",
    "customers = {}\n",
    "regions = {}\n",
    "for i in range(num_clients):\n",
    "  customer_id, region = input().split()\n",
    "  customers[customer_id] = {\n",
    "    \"region\": region,\n",
    "    \"tasks\": []\n",
    "  }\n",
    "  regions[region] = {\n",
    "    \"tasks\": []\n",
    "  }\n",
    "\n",
    "num_tasks = int(input())\n",
    "for i in range(num_tasks):\n",
    "  task_id, customer_id, time_spent = input().split()\n",
    "  current_customer = customers[customer_id]\n",
    "  current_customer[\"tasks\"].append(int(time_spent))\n",
    "  regions[current_customer[\"region\"]][\"tasks\"].append(int(time_spent))\n",
    "\n",
    "def printOutput(dictionary):\n",
    "  for key, value in dictionary.items():\n",
    "    tasks_len = len(value['tasks'])\n",
    "    avg_time = sum(value['tasks'])/tasks_len if (tasks_len) else 0\n",
    "    print(key,round(avg_time, 2))   \n",
    "\n",
    "printOutput(customers)\n",
    "printOutput(regions)"
   ]
  },
  {
   "cell_type": "code",
   "execution_count": null,
   "metadata": {},
   "outputs": [],
   "source": []
  },
  {
   "cell_type": "code",
   "execution_count": 3,
   "metadata": {},
   "outputs": [
    {
     "name": "stdout",
     "output_type": "stream",
     "text": [
      "12345\n",
      "3\n"
     ]
    }
   ],
   "source": [
    "num = input()\n",
    "\n",
    "if (num[0] == '0'):\n",
    "  print(0)\n",
    "else:\n",
    "  decode_count = {}\n",
    "  decode_count[0] = decode_count[1] = 1\n",
    "\n",
    "  for i in range(2, len(num) + 1):  \n",
    "    decode_count[i] = 0  \n",
    "    if (int(num[i - 1]) > 0):  \n",
    "        decode_count[i] = decode_count[i - 1]\n",
    "    if (10 <= int(num[i - 2 : i]) <= 26 ):  \n",
    "        decode_count[i] += decode_count[i - 2]\n",
    "    \n",
    "  print(decode_count[len(num)])"
   ]
  },
  {
   "cell_type": "code",
   "execution_count": null,
   "metadata": {},
   "outputs": [],
   "source": []
  }
 ],
 "metadata": {
  "kernelspec": {
   "display_name": "Python 3",
   "language": "python",
   "name": "python3"
  },
  "language_info": {
   "codemirror_mode": {
    "name": "ipython",
    "version": 3
   },
   "file_extension": ".py",
   "mimetype": "text/x-python",
   "name": "python",
   "nbconvert_exporter": "python",
   "pygments_lexer": "ipython3",
   "version": "3.6.8"
  }
 },
 "nbformat": 4,
 "nbformat_minor": 2
}
