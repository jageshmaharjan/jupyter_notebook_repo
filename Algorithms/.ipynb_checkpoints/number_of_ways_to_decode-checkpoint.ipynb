{
 "cells": [
  {
   "cell_type": "code",
   "execution_count": 1,
   "metadata": {},
   "outputs": [],
   "source": [
    "'''\n",
    "given a string of number, you are required to count the ways to decode the given string of number into \n",
    "albhabetical string.\n",
    "\n",
    "there are 26 albhabets, a to z.\n",
    "for example: given string of number is \"12345\"\n",
    "we can docode \"12345\" as:\n",
    "   [\"abcde\", \"lcde\", \"awde\"]\n",
    "   i.e 3 ways, the program should return 3\n",
    "'''"
   ]
  },
  {
   "cell_type": "code",
   "execution_count": 2,
   "metadata": {},
   "outputs": [],
   "source": [
    "# Not required\n",
    "hashmap = {1:\"a\", 2:\"b\", 3:\"c\", 4:\"d\", 5:\"e\", 6:\"f\", 7:\"g\", 8:\"h\", 9:\"i\", 10:\"j\", \n",
    "           11:\"k\", 12:\"l\", 13:\"m\", 14:\"n\", 15:\"o\", 16:\"p\", 17:\"q\", 18:\"r\", 19:\"s\", \n",
    "           20:\"t\", 21:\"u\", 22:\"v\", 23:\"w\", 24:\"x\", 25:\"y\", 26:\"z\"}"
   ]
  },
  {
   "cell_type": "code",
   "execution_count": 3,
   "metadata": {},
   "outputs": [],
   "source": [
    "def num_ways(data):\n",
    "    return helper(data, len(data))"
   ]
  },
  {
   "cell_type": "code",
   "execution_count": 6,
   "metadata": {},
   "outputs": [],
   "source": [
    "def helper(data, k):\n",
    "    if k == 0:\n",
    "        return 1\n",
    "    s = len(data)-k\n",
    "    if data[s] == '0':\n",
    "        return 0\n",
    "    result = helper(data, k-1)\n",
    "    if ((k >= 2) and (int(data[s:s+2]) <= 26)):\n",
    "        result += helper (data, k-2)\n",
    "    return result"
   ]
  },
  {
   "cell_type": "code",
   "execution_count": 8,
   "metadata": {},
   "outputs": [
    {
     "data": {
      "text/plain": [
       "3"
      ]
     },
     "execution_count": 8,
     "metadata": {},
     "output_type": "execute_result"
    }
   ],
   "source": [
    "given = \"12345\"\n",
    "num_ways(given)"
   ]
  },
  {
   "cell_type": "code",
   "execution_count": 10,
   "metadata": {},
   "outputs": [
    {
     "data": {
      "text/plain": [
       "5"
      ]
     },
     "execution_count": 10,
     "metadata": {},
     "output_type": "execute_result"
    }
   ],
   "source": [
    "given = \"1111\"\n",
    "num_ways(given)"
   ]
  },
  {
   "cell_type": "code",
   "execution_count": 28,
   "metadata": {},
   "outputs": [],
   "source": [
    "def num_ways(data):\n",
    "    cache = [None for i in range(len(data)+1)]\n",
    "    return helper(data, len(data), cache)"
   ]
  },
  {
   "cell_type": "code",
   "execution_count": 33,
   "metadata": {},
   "outputs": [],
   "source": [
    "def helper(data, k, cache):\n",
    "    if k==0:\n",
    "        return 1\n",
    "    s = len(data)-k\n",
    "    if data[s] == \"0\":\n",
    "        return 0    \n",
    "    if cache[k] != None:\n",
    "        return cache[k]\n",
    "    result = helper(data, k-1, cache)\n",
    "    if ((k >2) and (int(data[s:s+2]) <= 26)):\n",
    "        result += helper(data, k-2, cache)\n",
    "    cache[k] = result\n",
    "    return result"
   ]
  },
  {
   "cell_type": "code",
   "execution_count": 34,
   "metadata": {},
   "outputs": [
    {
     "data": {
      "text/plain": [
       "3"
      ]
     },
     "execution_count": 34,
     "metadata": {},
     "output_type": "execute_result"
    }
   ],
   "source": [
    "given = \"1111\"\n",
    "num_ways(given)"
   ]
  },
  {
   "cell_type": "code",
   "execution_count": null,
   "metadata": {},
   "outputs": [],
   "source": []
  }
 ],
 "metadata": {
  "kernelspec": {
   "display_name": "Python 3",
   "language": "python",
   "name": "python3"
  },
  "language_info": {
   "codemirror_mode": {
    "name": "ipython",
    "version": 3
   },
   "file_extension": ".py",
   "mimetype": "text/x-python",
   "name": "python",
   "nbconvert_exporter": "python",
   "pygments_lexer": "ipython3",
   "version": "3.6.8"
  }
 },
 "nbformat": 4,
 "nbformat_minor": 2
}
