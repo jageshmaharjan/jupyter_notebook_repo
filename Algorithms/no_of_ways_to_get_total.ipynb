{
 "cells": [
  {
   "cell_type": "code",
   "execution_count": null,
   "metadata": {},
   "outputs": [],
   "source": [
    "# given an array, in how many ways can you get total(t), from the sum of items in the array\n",
    "# eg: if given array is [2, 4, 6, 10] and total(t) is 16, the program should return 2, \n",
    "# because you can get 16 by summing [2,4,10], [10, 6]"
   ]
  },
  {
   "cell_type": "code",
   "execution_count": 1,
   "metadata": {},
   "outputs": [],
   "source": []
  },
  {
   "cell_type": "code",
   "execution_count": 1,
   "metadata": {},
   "outputs": [],
   "source": [
    "def count_set(arr, total):\n",
    "    mem = {}\n",
    "    return dp(arr, total, len(arr)-1, mem)"
   ]
  },
  {
   "cell_type": "code",
   "execution_count": 7,
   "metadata": {},
   "outputs": [],
   "source": [
    "def dp(arr, total, i, mem):\n",
    "    mem[str(total)] = str(i)\n",
    "    if str(total) in mem:\n",
    "        return mem[str(total)]\n",
    "    if total == 0:\n",
    "        return 1\n",
    "    elif total < 0:\n",
    "        return 0\n",
    "    elif total < arr[i]:\n",
    "        to_return = dp(arr, total, i-1, mem)\n",
    "    else:\n",
    "        to_return = (dp(arr, total - arr[i], i-1, mem) +\n",
    "                     dp(arr, total, i-1, mem))\n",
    "    mem[key] = to_return\n",
    "    return to_return"
   ]
  },
  {
   "cell_type": "code",
   "execution_count": 8,
   "metadata": {},
   "outputs": [
    {
     "data": {
      "text/plain": [
       "'3'"
      ]
     },
     "execution_count": 8,
     "metadata": {},
     "output_type": "execute_result"
    }
   ],
   "source": [
    "total = 16\n",
    "arr = [2,4,6,10]\n",
    "count_set(arr, total)"
   ]
  },
  {
   "cell_type": "code",
   "execution_count": null,
   "metadata": {},
   "outputs": [],
   "source": []
  }
 ],
 "metadata": {
  "kernelspec": {
   "display_name": "Python 3",
   "language": "python",
   "name": "python3"
  },
  "language_info": {
   "codemirror_mode": {
    "name": "ipython",
    "version": 3
   },
   "file_extension": ".py",
   "mimetype": "text/x-python",
   "name": "python",
   "nbconvert_exporter": "python",
   "pygments_lexer": "ipython3",
   "version": "3.6.8"
  }
 },
 "nbformat": 4,
 "nbformat_minor": 2
}
