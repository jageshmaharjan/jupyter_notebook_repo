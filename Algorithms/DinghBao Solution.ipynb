{
 "cells": [
  {
   "cell_type": "code",
   "execution_count": 11,
   "metadata": {},
   "outputs": [
    {
     "name": "stdout",
     "output_type": "stream",
     "text": [
      "3\n"
     ]
    }
   ],
   "source": [
    "no_clients = int(input())"
   ]
  },
  {
   "cell_type": "code",
   "execution_count": 12,
   "metadata": {},
   "outputs": [],
   "source": [
    "customer_ids_to_country = {} # customer id -> country code\n",
    "customer_ids_average = {} # customer id -> [total_time_spent, no_tasks]\n",
    "countries_average = {} # country -> [total_time_spent, no_tasks]"
   ]
  },
  {
   "cell_type": "code",
   "execution_count": 13,
   "metadata": {},
   "outputs": [
    {
     "name": "stdout",
     "output_type": "stream",
     "text": [
      "1 hk\n",
      "2 sg\n",
      "3 hk\n"
     ]
    }
   ],
   "source": [
    "for i in range(no_clients):\n",
    "    customer_id, country_code = input().split(\" \")\n",
    "    customer_ids_to_country[int(customer_id)] = country_code # assume customer_id is int only\n",
    "    customer_ids_average[int(customer_id)] = [0, 0]\n",
    "    countries_average[country_code] = [0, 0]"
   ]
  },
  {
   "cell_type": "code",
   "execution_count": 14,
   "metadata": {},
   "outputs": [
    {
     "name": "stdout",
     "output_type": "stream",
     "text": [
      "5\n"
     ]
    }
   ],
   "source": [
    "no_tasks = int(input())"
   ]
  },
  {
   "cell_type": "code",
   "execution_count": 15,
   "metadata": {},
   "outputs": [],
   "source": [
    "def update_average_in_dictionary(key, dictionary, time_spent):\n",
    "    if key in dictionary:\n",
    "        current_pair = dictionary[key]\n",
    "        dictionary[key] = [current_pair[0] + time_spent, current_pair[1] + 1]\n",
    "    else:\n",
    "        dictionary[key] = [time_spent, 1]"
   ]
  },
  {
   "cell_type": "code",
   "execution_count": 16,
   "metadata": {},
   "outputs": [
    {
     "name": "stdout",
     "output_type": "stream",
     "text": [
      "1 1 10\n",
      "2 2 12\n",
      "3 3 11\n",
      "4 2 7\n",
      "5 1 4\n"
     ]
    }
   ],
   "source": [
    "for i in range(no_tasks):\n",
    "    '''\n",
    "    Assumptions made:\n",
    "    - The customer_id is already declared, no new customers here\n",
    "    - task_id and time_spent is of int type (no float/double time_spent)\n",
    "    - task_id is unique (the same task cannot be done by different customers with different times)\n",
    "    '''\n",
    "    task_id, customer_id, time_spent = map(int, input().split(\" \"))\n",
    "    country = customer_ids_to_country[customer_id]\n",
    "\n",
    "    update_average_in_dictionary(customer_id, customer_ids_average, time_spent)\n",
    "    update_average_in_dictionary(country, countries_average, time_spent)"
   ]
  },
  {
   "cell_type": "code",
   "execution_count": 17,
   "metadata": {},
   "outputs": [],
   "source": [
    "def get_average_time_from_total_time_and_no_of_tasks(dictionary):\n",
    "    for key in dictionary:\n",
    "            # if user_id and country_code are Declared but no task is assigned, \n",
    "            # the avg. time spend will be 0.0\n",
    "            dictionary[key] = 0.0\n",
    "        else:\n",
    "            dictionary[key] = dictionary[key][0]/ dictionary[key][1]"
   ]
  },
  {
   "cell_type": "code",
   "execution_count": 18,
   "metadata": {},
   "outputs": [],
   "source": [
    "get_average_time_from_total_time_and_no_of_tasks(customer_ids_average)\n",
    "get_average_time_from_total_time_and_no_of_tasks(countries_average)"
   ]
  },
  {
   "cell_type": "code",
   "execution_count": 19,
   "metadata": {},
   "outputs": [
    {
     "name": "stdout",
     "output_type": "stream",
     "text": [
      "1 7.0\n",
      "2 9.5\n",
      "3 11.0\n"
     ]
    }
   ],
   "source": [
    "for customer_id, average in sorted(customer_ids_average.items(), key = lambda pair: pair[1]):\n",
    "    # we display double values instead of int (e.g. 10.0 instead of 10, \n",
    "    # because 0.0 is a double)\n",
    "    print(customer_id, round(average, 2)) "
   ]
  },
  {
   "cell_type": "code",
   "execution_count": 20,
   "metadata": {},
   "outputs": [
    {
     "name": "stdout",
     "output_type": "stream",
     "text": [
      "hk 8.33\n",
      "sg 9.5\n"
     ]
    }
   ],
   "source": [
    "for country, average in sorted(countries_average.items(), key = lambda pair: pair[1]):\n",
    "    print(country, round(average, 2))"
   ]
  },
  {
   "cell_type": "code",
   "execution_count": null,
   "metadata": {},
   "outputs": [],
   "source": []
  },
  {
   "cell_type": "code",
   "execution_count": null,
   "metadata": {},
   "outputs": [],
   "source": []
  },
  {
   "cell_type": "code",
   "execution_count": 21,
   "metadata": {},
   "outputs": [],
   "source": [
    "def add_up_to_target(arr, X):\n",
    "    arr.sort()\n",
    "    count = 0\n",
    "    \n",
    "    def backtrack(remaining, starting_index_to_consider):\n",
    "        nonlocal count\n",
    "        if (remaining < 0): # invalid solution\n",
    "            return None\n",
    "        if (remaining == 0): # we got a solution\n",
    "            count += 1\n",
    "            return None\n",
    "        \n",
    "        # backtrack\n",
    "        for i in range(starting_index_to_consider, len(arr)):\n",
    "            if (i > starting_index_to_consider and arr[i] == arr[i-1]): # we skip duplicates\n",
    "                continue\n",
    "            element_to_take = arr[i]\n",
    "            backtrack(remaining - element_to_take, i + 1)\n",
    "        \n",
    "    backtrack(X, 0)\n",
    "    return count"
   ]
  },
  {
   "cell_type": "code",
   "execution_count": 22,
   "metadata": {},
   "outputs": [
    {
     "name": "stdout",
     "output_type": "stream",
     "text": [
      "2\n"
     ]
    }
   ],
   "source": [
    "print(add_up_to_target([3, 5, 6, 8, 10], 18))"
   ]
  },
  {
   "cell_type": "code",
   "execution_count": 23,
   "metadata": {},
   "outputs": [
    {
     "name": "stdout",
     "output_type": "stream",
     "text": [
      "2\n"
     ]
    }
   ],
   "source": [
    "print(add_up_to_target([2, 1, 2, 2, 5], 5))"
   ]
  },
  {
   "cell_type": "code",
   "execution_count": 24,
   "metadata": {},
   "outputs": [
    {
     "name": "stdout",
     "output_type": "stream",
     "text": [
      "2\n"
     ]
    }
   ],
   "source": [
    "\n",
    "print(add_up_to_target([2, 4, 6, 10], 16))"
   ]
  }
 ],
 "metadata": {
  "kernelspec": {
   "display_name": "Python 3",
   "language": "python",
   "name": "python3"
  },
  "language_info": {
   "codemirror_mode": {
    "name": "ipython",
    "version": 3
   },
   "file_extension": ".py",
   "mimetype": "text/x-python",
   "name": "python",
   "nbconvert_exporter": "python",
   "pygments_lexer": "ipython3",
   "version": "3.6.8"
  }
 },
 "nbformat": 4,
 "nbformat_minor": 2
}
