{
 "cells": [
  {
   "cell_type": "code",
   "execution_count": 1,
   "metadata": {},
   "outputs": [],
   "source": [
    "import numpy as np\n",
    "\n",
    "A = ['s','t','o','n','e']\n",
    "B = ['s','l','o','n','g','e','s','t']\n",
    "\n",
    "cache = [[0 for x in range(len(B))] for y in range(len(A))]\n",
    "\n"
   ]
  },
  {
   "cell_type": "code",
   "execution_count": 2,
   "metadata": {},
   "outputs": [],
   "source": [
    "def lcs(a, b, cache):\n",
    "    for row in range(0, len(a)):\n",
    "        for col in range(0, len(b)):\n",
    "            if a[row] == b[col]:\n",
    "                cache[row][col] = 1 + max(cache[row-1][col] , cache[row][col-1])\n",
    "            else:\n",
    "                cache[row][col] = max(cache[row-1][col] , cache[row][col-1])\n",
    "    return cache[len(a)-1][len(b)-1]"
   ]
  },
  {
   "cell_type": "code",
   "execution_count": 3,
   "metadata": {},
   "outputs": [
    {
     "data": {
      "text/plain": [
       "4"
      ]
     },
     "execution_count": 3,
     "metadata": {},
     "output_type": "execute_result"
    }
   ],
   "source": [
    "lcs(A,B,cache)"
   ]
  },
  {
   "cell_type": "code",
   "execution_count": null,
   "metadata": {},
   "outputs": [],
   "source": []
  }
 ],
 "metadata": {
  "kernelspec": {
   "display_name": "Python 3",
   "language": "python",
   "name": "python3"
  },
  "language_info": {
   "codemirror_mode": {
    "name": "ipython",
    "version": 3
   },
   "file_extension": ".py",
   "mimetype": "text/x-python",
   "name": "python",
   "nbconvert_exporter": "python",
   "pygments_lexer": "ipython3",
   "version": "3.6.8"
  }
 },
 "nbformat": 4,
 "nbformat_minor": 2
}
