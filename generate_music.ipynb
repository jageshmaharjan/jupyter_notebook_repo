{
 "cells": [
  {
   "cell_type": "code",
   "execution_count": 1,
   "metadata": {},
   "outputs": [
    {
     "ename": "ModuleNotFoundError",
     "evalue": "No module named 'deepmusicmoduleloader'",
     "output_type": "error",
     "traceback": [
      "\u001b[0;31m---------------------------------------------------------------------------\u001b[0m",
      "\u001b[0;31mModuleNotFoundError\u001b[0m                       Traceback (most recent call last)",
      "\u001b[0;32m<ipython-input-1-2dd183594513>\u001b[0m in \u001b[0;36m<module>\u001b[0;34m()\u001b[0m\n\u001b[0;32m----> 1\u001b[0;31m \u001b[0;32mfrom\u001b[0m \u001b[0mdeepmusicmoduleloader\u001b[0m \u001b[0;32mimport\u001b[0m \u001b[0mModuleLoader\u001b[0m\u001b[0;34m\u001b[0m\u001b[0m\n\u001b[0m\u001b[1;32m      2\u001b[0m \u001b[0;32mfrom\u001b[0m \u001b[0mdeepmusic\u001b[0m\u001b[0;34m.\u001b[0m\u001b[0mkeyboardcell\u001b[0m \u001b[0;32mimport\u001b[0m \u001b[0mkeyboardcell\u001b[0m\u001b[0;34m\u001b[0m\u001b[0m\n\u001b[1;32m      3\u001b[0m \u001b[0;32mimport\u001b[0m \u001b[0mdeepmusic\u001b[0m\u001b[0;34m.\u001b[0m\u001b[0msongstrcut\u001b[0m \u001b[0;32mas\u001b[0m \u001b[0mmusic\u001b[0m\u001b[0;34m\u001b[0m\u001b[0m\n\u001b[1;32m      4\u001b[0m \u001b[0;32mimport\u001b[0m \u001b[0mnumpy\u001b[0m \u001b[0;32mas\u001b[0m \u001b[0mnp\u001b[0m\u001b[0;34m\u001b[0m\u001b[0m\n\u001b[1;32m      5\u001b[0m \u001b[0;32mimport\u001b[0m \u001b[0mtensorflow\u001b[0m \u001b[0;32mas\u001b[0m \u001b[0mtf\u001b[0m\u001b[0;34m\u001b[0m\u001b[0m\n",
      "\u001b[0;31mModuleNotFoundError\u001b[0m: No module named 'deepmusicmoduleloader'"
     ]
    }
   ],
   "source": [
    "from deepmusicmoduleloader import ModuleLoader\n",
    "from deepmusic.keyboardcell import keyboardcell\n",
    "import deepmusic.songstruct as music\n",
    "import numpy as np\n",
    "import tensorflow as tf"
   ]
  },
  {
   "cell_type": "code",
   "execution_count": null,
   "metadata": {
    "collapsed": true
   },
   "outputs": [],
   "source": [
    "def build_network(self):\n",
    "    inout_dim = ModuleLoader.batch_builders.get_module().get_input_dim()\n",
    "    \n",
    "    #note data\n",
    "    with tf.name_scope('placeholder_input'):\n",
    "        self.inputs = [\n",
    "            tf.placeholder(tf.float32, \n",
    "                           [self.args.batch_size, input_dim],\n",
    "                          name = 'input')\n",
    "        ]\n",
    "        \n",
    "    # target key pressed, bin classification\n",
    "    with tf.name_scope('placeholder_targets'):\n",
    "        self.target = [\n",
    "            tf.placeholder(tf.int32,\n",
    "                          [self.batch_size],\n",
    "                          name ='target')\n",
    "        ]\n",
    "        \n",
    "    #Hidden\n",
    "    with tf.name_scope('placehoplder_use_prev'):\n",
    "        self.use_prev = [\n",
    "            tf.placeholder(tf.bool,\n",
    "                          name = 'use_prev')\n",
    "        ]\n",
    "        \n",
    "    #define our netwoek\n",
    "    self.loop_processing = ModuleLoader.loop_processings.build_module(self.args)\n",
    "    def loop_rnn(prev, i):\n",
    "        next_input = self.loop_processing(prev)\n",
    "        return tf.cond(self.prev[i], lambda: next_input, lambda: self.inputs[i])\n",
    "    \n",
    "    #build seq2seq model\n",
    "    self.outputs, self.final_state = tf.nn.seq2seq.rnn_decoder(\n",
    "        decoder_inputs = self.inputs,\n",
    "        initial_state = None,\n",
    "        cell = KeyboardCell,\n",
    "        loop_function = loop_rnn\n",
    "    )\n",
    "    \n",
    "    #train step\n",
    "    #lets define loss funct\n",
    "    \n",
    "    loss_fct = tf.nn.seq2seq.sequence_loss(\n",
    "        self.outputs,\n",
    "        self.target,\n",
    "        softmax_loss_function = tf.nn.softmax.cross_entropy_with_logits,\n",
    "        average_across_timesteps = True,\n",
    "        average_across_batch = True)\n",
    "    \n",
    "    #initilize the optimizer\n",
    "    opt = tf.train.AdamOptimizer(\n",
    "        learning_rate = self.curent_learning_rate,\n",
    "        beta1 = 0.9,\n",
    "        beta2 = 0.999,\n",
    "        epsilon = 1e-08)\n",
    "    \n",
    "    self.opt_op = opt.minimize(loss_fct)"
   ]
  }
 ],
 "metadata": {
  "kernelspec": {
   "display_name": "Python 3",
   "language": "python",
   "name": "python3"
  },
  "language_info": {
   "codemirror_mode": {
    "name": "ipython",
    "version": 3
   },
   "file_extension": ".py",
   "mimetype": "text/x-python",
   "name": "python",
   "nbconvert_exporter": "python",
   "pygments_lexer": "ipython3",
   "version": "3.6.2"
  }
 },
 "nbformat": 4,
 "nbformat_minor": 2
}
